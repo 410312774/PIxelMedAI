{
 "cells": [
  {
   "cell_type": "code",
   "execution_count": 9,
   "metadata": {},
   "outputs": [
    {
     "name": "stdout",
     "output_type": "stream",
     "text": [
      "Fitting 5 folds for each of 10 candidates, totalling 50 fits\n",
      "Best parameters found:  {'gamma': 1, 'degree': 3, 'C': 0.01}\n",
      "Best score:  0.7966568682344158\n"
     ]
    },
    {
     "name": "stderr",
     "output_type": "stream",
     "text": [
      "d:\\pixelmedAI\\envs\\pixelmed38\\lib\\site-packages\\sklearn\\svm\\_base.py:297: ConvergenceWarning: Solver terminated early (max_iter=1000).  Consider pre-processing your data with StandardScaler or MinMaxScaler.\n",
      "  warnings.warn(\n"
     ]
    }
   ],
   "source": [
    "\n",
    "\n",
    "from sklearn.linear_model import LogisticRegression  \n",
    "from sklearn.svm import SVC  \n",
    "from sklearn.tree import DecisionTreeClassifier  \n",
    "from sklearn.ensemble import RandomForestClassifier, ExtraTreesClassifier, AdaBoostClassifier  \n",
    "from sklearn.ensemble import GradientBoostingClassifier  \n",
    "from sklearn.neural_network import MLPClassifier  \n",
    "from xgboost.sklearn import XGBClassifier  \n",
    "from lightgbm.sklearn import LGBMClassifier  \n",
    "from sklearn.naive_bayes import GaussianNB  \n",
    "from sklearn.neighbors import KNeighborsClassifier  \n",
    "import numpy as np  \n",
    "import pandas as pd\n",
    "\n",
    "from pixelmed_calc.medical_imaging.RadiologyComponents.bestparam import model_hyperparameter_tuning\n",
    "from pixelmed_calc.medical_imaging.RadiologyComponents.ml_hyparam import param_grid  \n",
    "\n",
    "df = pd.read_csv(r\"D:\\pixelmedAI\\function_pm\\note1—影像组学\\二分类指定数据集\\results\\pred\\x_train.csv\")  \n",
    "ydata = pd.read_csv(r\"D:\\pixelmedAI\\function_pm\\note1—影像组学\\二分类指定数据集\\results\\pred\\y_train.csv\")  \n",
    "\n",
    "X_train = df  \n",
    "y_train = ydata['label']  \n",
    "\n",
    "models = {  \n",
    "    'LR': LogisticRegression(random_state=0),  \n",
    "    'NB': GaussianNB(),  \n",
    "    'KNN': KNeighborsClassifier(algorithm='kd_tree'),  \n",
    "    'linear_SVM': SVC(kernel='linear', class_weight='balanced', probability=True, max_iter=1000),  \n",
    "    'poly_SVM': SVC(kernel='poly', class_weight='balanced', probability=True),  \n",
    "    'sigmoid_SVM': SVC(kernel='sigmoid', class_weight='balanced', probability=True),  \n",
    "    'rbf_SVM': SVC(kernel='rbf', class_weight='balanced', probability=True),  \n",
    "    'DT': DecisionTreeClassifier(class_weight='balanced'),  \n",
    "    'RF': RandomForestClassifier(class_weight='balanced'),  \n",
    "    'ExtraTree': ExtraTreesClassifier(class_weight='balanced'),  \n",
    "    'XGBoost': XGBClassifier(),  \n",
    "    'AdaBoost': AdaBoostClassifier(n_estimators=10, random_state=0),  \n",
    "    'MLP': MLPClassifier(hidden_layer_sizes=(128, 64, 32), max_iter=200, solver='adam', random_state=42),  \n",
    "    'GBM': GradientBoostingClassifier(n_estimators=10, random_state=0),  \n",
    "    'LightGBM': LGBMClassifier(n_estimators=10, max_depth=-1, objective='binary', verbosity=-1)  \n",
    "}  \n",
    "\n",
    "\n",
    "best_params, best_score = model_hyperparameter_tuning(  \n",
    "    X_train, y_train, 'linear_SVM', models, param_grid,cv=5  \n",
    ")"
   ]
  }
 ],
 "metadata": {
  "kernelspec": {
   "display_name": "Python 3",
   "language": "python",
   "name": "python3"
  },
  "language_info": {
   "codemirror_mode": {
    "name": "ipython",
    "version": 3
   },
   "file_extension": ".py",
   "mimetype": "text/x-python",
   "name": "python",
   "nbconvert_exporter": "python",
   "pygments_lexer": "ipython3",
   "version": "3.8.19"
  }
 },
 "nbformat": 4,
 "nbformat_minor": 2
}
