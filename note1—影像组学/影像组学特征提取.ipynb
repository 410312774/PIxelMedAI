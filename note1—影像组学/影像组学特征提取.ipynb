{
 "cells": [
  {
   "cell_type": "markdown",
   "metadata": {},
   "source": [
    "# 医学影像特征提取-Pixelmed AI\n",
    "\n",
    "path: \"/Users/y2k/workstation_y2k/zhichangCA/DWInii2\"  工作目录  \n",
    "method: \"directory\"  walk or directory  \n",
    "images: \"images\"  image文件夹  \n",
    "masks: \"masks\"  mask文件夹  \n",
    "outfeature: \"feature.csv\"  输出的文件  \n",
    "label: 1  需要提取的标签，生境影像组学提取时，需要设置1，2或者3...  \n"
   ]
  },
  {
   "cell_type": "code",
   "execution_count": 1,
   "metadata": {},
   "outputs": [],
   "source": [
    "import os\n",
    "os.environ.get('PM_HOME')\n",
    "path=r\"D:\\pixelmedAI\\function_pm\\pm_data\\MR\\patient\"\n",
    "method='walk'\n",
    "images='im.nii.gz'\n",
    "masks='seg.nii.gz'\n",
    "label=1\n",
    "param_file='pyradiomics_settings/exampleMR_3mm.yaml'\n",
    "output_path='new.csv'"
   ]
  },
  {
   "cell_type": "code",
   "execution_count": 2,
   "metadata": {},
   "outputs": [],
   "source": [
    "\n",
    "from pixelmed_calc.medical_imaging.RadiologyComponents.extrafeature import extract_image_and_mask_paths_from_directory\n",
    "\n",
    "images, masks = extract_image_and_mask_paths_from_directory(\n",
    "            path=path,\n",
    "            method=method,  # 默认为 'directory'\n",
    "            images=images,  # 默认为 'images'\n",
    "            masks=masks,    # 默认为 'masks'\n",
    "        )\n"
   ]
  },
  {
   "cell_type": "code",
   "execution_count": 3,
   "metadata": {},
   "outputs": [
    {
     "name": "stderr",
     "output_type": "stream",
     "text": [
      "INFO:pykwalify.core:validation.valid\n",
      "INFO:pixelmed_calc.medical_imaging.RadiologyComponents.extrafeatureA:Extracting feature from image D:\\pixelmedAI\\function_pm\\pm_data\\MR\\patient\\lisi\\lisi_im.nii.gz with label 1\n",
      "INFO:pixelmed_calc.medical_imaging.RadiologyComponents.extrafeatureA:Extracting feature from image D:\\pixelmedAI\\function_pm\\pm_data\\MR\\patient\\wangwu\\wangwu_im.nii.gz with label 1\n",
      "INFO:pixelmed_calc.medical_imaging.RadiologyComponents.extrafeatureA:Extracting feature from image D:\\pixelmedAI\\function_pm\\pm_data\\MR\\patient\\zhangsan\\zhangsan_im.nii.gz with label 1\n",
      "INFO:pixelmed_calc.medical_imaging.RadiologyComponents.extrafeatureA:Feature extraction completed\n",
      "INFO:pixelmed_calc.medical_imaging.RadiologyComponents.extrafeatureA:Saved features to new.csv\n"
     ]
    }
   ],
   "source": [
    "from pixelmed_calc.medical_imaging.RadiologyComponents.extrafeatureA import extract_radiomics_features\n",
    "\n",
    "rad_data = extract_radiomics_features(images, masks, label=label, param_file=param_file,output_path=output_path)\n"
   ]
  },
  {
   "cell_type": "code",
   "execution_count": null,
   "metadata": {},
   "outputs": [],
   "source": []
  }
 ],
 "metadata": {
  "kernelspec": {
   "display_name": "py37radicom",
   "language": "python",
   "name": "python3"
  },
  "language_info": {
   "codemirror_mode": {
    "name": "ipython",
    "version": 3
   },
   "file_extension": ".py",
   "mimetype": "text/x-python",
   "name": "python",
   "nbconvert_exporter": "python",
   "pygments_lexer": "ipython3",
   "version": "3.8.19"
  }
 },
 "nbformat": 4,
 "nbformat_minor": 2
}
