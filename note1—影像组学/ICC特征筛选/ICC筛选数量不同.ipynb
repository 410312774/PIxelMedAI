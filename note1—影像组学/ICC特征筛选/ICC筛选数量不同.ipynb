{
 "cells": [
  {
   "cell_type": "code",
   "execution_count": 15,
   "metadata": {},
   "outputs": [],
   "source": [
    "import pandas as pd\n",
    "from pixelmed_calc.medical_imaging.RadiologyComponents.components1 import calculate_icc\n",
    "\n",
    "data1=pd.read_csv(r\"D:\\BaiduNetdiskDownload\\lung_chihro\\Rad_feature.csv\")\n",
    "id_data1 = data1['ID']  \n",
    "\n",
    "data2=pd.read_csv(r\"D:\\BaiduNetdiskDownload\\lung_chihro\\Rad_featureICC.csv\")\n",
    "id_data2 = data2['ID']  \n",
    "data2=data2.drop(['ID'],axis=1)\n",
    "data1_merge=pd.merge(data1,id_data2,on='ID')\n",
    "data1_merge=data1_merge.drop(['ID'],axis=1)\n",
    "sel_feature=calculate_icc([data1_merge,data2],threshold=0.75)\n"
   ]
  },
  {
   "cell_type": "code",
   "execution_count": 19,
   "metadata": {},
   "outputs": [],
   "source": [
    "data_sel=pd.read_csv(r\"D:\\BaiduNetdiskDownload\\lung_chihro\\Rad_feature.csv\")\n",
    "data_sel_id=data_sel['ID']\n",
    "data_sel=data_sel[sel_feature]\n",
    "data_sel_save = pd.concat([data_sel_id, data_sel], axis=1)  \n",
    "data_sel_save.to_csv('Rad_feature_sel.csv', index=False)"
   ]
  },
  {
   "cell_type": "code",
   "execution_count": 1,
   "metadata": {},
   "outputs": [
    {
     "name": "stdout",
     "output_type": "stream",
     "text": [
      "正在校验授权信息，请稍等...\n",
      "您的设备获得授权，授权有效期至【2099-05-20 12:00:00】\n"
     ]
    }
   ],
   "source": [
    "import pandas as pd  \n",
    "from pixelmed_calc.medical_imaging.RadiologyComponents.components1 import calculate_icc,select_and_save_icc_features  \n",
    "\n",
    "#feature_file_path是完整的csv文档\n",
    "#icc_file_path一般是数量少的csv特征文档，比如30个病人\n",
    "\n",
    "# Example usage:  \n",
    "select_and_save_icc_features(  \n",
    "    feature_file_path=r\"D:\\BaiduNetdiskDownload\\lung_chihro\\Rad_sub_feature.csv\",  \n",
    "    icc_file_path=r\"D:\\BaiduNetdiskDownload\\lung_chihro\\rad_sub_featureicc.csv\",  \n",
    "    output_file_path='Rad_feature_sel_sub.csv'  \n",
    ")"
   ]
  }
 ],
 "metadata": {
  "kernelspec": {
   "display_name": "pm38web",
   "language": "python",
   "name": "python3"
  },
  "language_info": {
   "codemirror_mode": {
    "name": "ipython",
    "version": 3
   },
   "file_extension": ".py",
   "mimetype": "text/x-python",
   "name": "python",
   "nbconvert_exporter": "python",
   "pygments_lexer": "ipython3",
   "version": "3.8.19"
  }
 },
 "nbformat": 4,
 "nbformat_minor": 2
}
