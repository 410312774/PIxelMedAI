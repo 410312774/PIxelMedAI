{
 "cells": [
  {
   "cell_type": "code",
   "execution_count": 2,
   "metadata": {},
   "outputs": [],
   "source": [
    "import pandas as pd\n",
    "from pixelmed_calc.medical_imaging.RadiologyComponents.components1 import calculate_icc\n",
    "\n",
    "data1=pd.read_csv(r\"D:\\pixelmedAI\\function_pm\\pm_data\\MR\\hab_sub\\feature_TTP_1.csv\")\n",
    "id_data1 = data1['ID']  \n",
    "data1=data1.drop(['ID'],axis=1)\n",
    "data2=pd.read_csv(r\"D:\\pixelmedAI\\function_pm\\pm_data\\MR\\hab_sub\\feature_TTP_1.csv\")\n",
    "id_data2 = data2['ID']  \n",
    "data2=data2.drop(['ID'],axis=1)\n",
    "sel_feature=calculate_icc([data1,data2],threshold=0.7)\n"
   ]
  },
  {
   "cell_type": "code",
   "execution_count": 12,
   "metadata": {},
   "outputs": [],
   "source": [
    "data1_selected = data1[sel_feature]  \n",
    "data1_selected = pd.concat([id_data1, data1_selected], axis=1)  \n",
    "data1_selected.to_csv('data1_selected.csv', index=False)"
   ]
  },
  {
   "cell_type": "code",
   "execution_count": null,
   "metadata": {},
   "outputs": [],
   "source": [
    "data2_selected = data2[sel_feature]  \n",
    "data2_selected = pd.concat([id_data2, data2_selected], axis=1)  \n",
    "data2_selected.to_csv('data2_selected.csv', index=False)"
   ]
  }
 ],
 "metadata": {
  "kernelspec": {
   "display_name": "pm38web",
   "language": "python",
   "name": "python3"
  },
  "language_info": {
   "codemirror_mode": {
    "name": "ipython",
    "version": 3
   },
   "file_extension": ".py",
   "mimetype": "text/x-python",
   "name": "python",
   "nbconvert_exporter": "python",
   "pygments_lexer": "ipython3",
   "version": "3.8.19"
  }
 },
 "nbformat": 4,
 "nbformat_minor": 2
}
