{
 "cells": [
  {
   "cell_type": "markdown",
   "metadata": {},
   "source": [
    "## 生境VOI特征提取（包含Haralick纹理特征以及海森矩阵特征）"
   ]
  },
  {
   "cell_type": "code",
   "execution_count": 1,
   "metadata": {},
   "outputs": [
    {
     "name": "stdout",
     "output_type": "stream",
     "text": [
      "Added to sys.path: d:\\pixelmedAI\\envs\\pixelmed38\\lib\\site-packages\\pixelmed_calc\\medical_imaging\n",
      "Added to sys.path: d:\\pixelmedAI\\envs\\pixelmed38\\lib\\site-packages\\pixelmed_calc\\medical_imaging\n"
     ]
    },
    {
     "name": "stderr",
     "output_type": "stream",
     "text": [
      "d:\\pixelmedAI\\envs\\pixelmed38\\lib\\site-packages\\phasepack\\tools.py:11: UserWarning: \n",
      "Module 'pyfftw' (FFTW Python bindings) could not be imported. To install it, try\n",
      "running 'pip install pyfftw' from the terminal. Falling back on the slower\n",
      "'fftpack' module for 2D Fourier transforms.\n",
      "  warnings.warn(\"\"\"\n"
     ]
    },
    {
     "name": "stdout",
     "output_type": "stream",
     "text": [
      "images: ['D:\\\\pixelmedAI\\\\function_pm\\\\pm_data\\\\liangxing\\\\images\\\\data1.nii.gz', 'D:\\\\pixelmedAI\\\\function_pm\\\\pm_data\\\\liangxing\\\\images\\\\data10.nii.gz', 'D:\\\\pixelmedAI\\\\function_pm\\\\pm_data\\\\liangxing\\\\images\\\\data2.nii.gz', 'D:\\\\pixelmedAI\\\\function_pm\\\\pm_data\\\\liangxing\\\\images\\\\data3.nii.gz', 'D:\\\\pixelmedAI\\\\function_pm\\\\pm_data\\\\liangxing\\\\images\\\\data4.nii.gz', 'D:\\\\pixelmedAI\\\\function_pm\\\\pm_data\\\\liangxing\\\\images\\\\data5.nii.gz', 'D:\\\\pixelmedAI\\\\function_pm\\\\pm_data\\\\liangxing\\\\images\\\\data6.nii.gz', 'D:\\\\pixelmedAI\\\\function_pm\\\\pm_data\\\\liangxing\\\\images\\\\data7.nii.gz', 'D:\\\\pixelmedAI\\\\function_pm\\\\pm_data\\\\liangxing\\\\images\\\\data8.nii.gz', 'D:\\\\pixelmedAI\\\\function_pm\\\\pm_data\\\\liangxing\\\\images\\\\data9.nii.gz']\n",
      "masks ['D:\\\\pixelmedAI\\\\function_pm\\\\pm_data\\\\liangxing\\\\masks\\\\data1.nii.gz', 'D:\\\\pixelmedAI\\\\function_pm\\\\pm_data\\\\liangxing\\\\masks\\\\data10.nii.gz', 'D:\\\\pixelmedAI\\\\function_pm\\\\pm_data\\\\liangxing\\\\masks\\\\data2.nii.gz', 'D:\\\\pixelmedAI\\\\function_pm\\\\pm_data\\\\liangxing\\\\masks\\\\data3.nii.gz', 'D:\\\\pixelmedAI\\\\function_pm\\\\pm_data\\\\liangxing\\\\masks\\\\data4.nii.gz', 'D:\\\\pixelmedAI\\\\function_pm\\\\pm_data\\\\liangxing\\\\masks\\\\data5.nii.gz', 'D:\\\\pixelmedAI\\\\function_pm\\\\pm_data\\\\liangxing\\\\masks\\\\data6.nii.gz', 'D:\\\\pixelmedAI\\\\function_pm\\\\pm_data\\\\liangxing\\\\masks\\\\data7.nii.gz', 'D:\\\\pixelmedAI\\\\function_pm\\\\pm_data\\\\liangxing\\\\masks\\\\data8.nii.gz', 'D:\\\\pixelmedAI\\\\function_pm\\\\pm_data\\\\liangxing\\\\masks\\\\data9.nii.gz']\n",
      "Found 10samples\n",
      "ProcessingD:\\pixelmedAI\\function_pm\\pm_data\\liangxing\\images\\data1.nii.gz\n",
      "\tAlready exists, skippingD:\\pixelmedAI\\function_pm\\pm_data\\liangxing\\images\\data1.nii.gz.\n",
      "ProcessingD:\\pixelmedAI\\function_pm\\pm_data\\liangxing\\images\\data10.nii.gz\n",
      "\tAlready exists, skippingD:\\pixelmedAI\\function_pm\\pm_data\\liangxing\\images\\data10.nii.gz.\n",
      "ProcessingD:\\pixelmedAI\\function_pm\\pm_data\\liangxing\\images\\data2.nii.gz\n",
      "\tAlready exists, skippingD:\\pixelmedAI\\function_pm\\pm_data\\liangxing\\images\\data2.nii.gz.\n",
      "ProcessingD:\\pixelmedAI\\function_pm\\pm_data\\liangxing\\images\\data3.nii.gz\n",
      "\tAlready exists, skippingD:\\pixelmedAI\\function_pm\\pm_data\\liangxing\\images\\data3.nii.gz.\n",
      "ProcessingD:\\pixelmedAI\\function_pm\\pm_data\\liangxing\\images\\data4.nii.gz\n",
      "\tAlready exists, skippingD:\\pixelmedAI\\function_pm\\pm_data\\liangxing\\images\\data4.nii.gz.\n",
      "ProcessingD:\\pixelmedAI\\function_pm\\pm_data\\liangxing\\images\\data5.nii.gz\n",
      "Loading inputs.\n",
      "Load image and metadata file.\n",
      "Load semantics file.\n",
      "Load segmentation.\n",
      "Calculating image features.\n"
     ]
    },
    {
     "name": "stderr",
     "output_type": "stream",
     "text": [
      "d:\\pixelmedAI\\envs\\pixelmed38\\lib\\site-packages\\pixelmed_calc\\medical_imaging\\PREDICT\\imagefeatures\\vessel_features.py:64: UserWarning: Use keyword parameter `sigmas` instead of `scale_range` and `scale_range` which will be removed in version 0.17.\n",
      "  Frangi_image[:, :, i_slice] = frangi(image[:, :, i_slice].astype(np.uint8), scale_range=i_sr, scale_step=i_ss)\n"
     ]
    },
    {
     "name": "stdout",
     "output_type": "stream",
     "text": [
      "ProcessingD:\\pixelmedAI\\function_pm\\pm_data\\liangxing\\images\\data6.nii.gz\n",
      "Loading inputs.\n",
      "Load image and metadata file.\n",
      "Load semantics file.\n",
      "Load segmentation.\n",
      "Calculating image features.\n"
     ]
    },
    {
     "ename": "KeyboardInterrupt",
     "evalue": "",
     "output_type": "error",
     "traceback": [
      "\u001b[1;31m---------------------------------------------------------------------------\u001b[0m",
      "\u001b[1;31mKeyboardInterrupt\u001b[0m                         Traceback (most recent call last)",
      "\u001b[1;32m~\\AppData\\Local\\Temp\\ipykernel_43444\\1376238079.py\u001b[0m in \u001b[0;36m?\u001b[1;34m()\u001b[0m\n\u001b[1;32m----> 8\u001b[1;33m \u001b[1;32mfrom\u001b[0m \u001b[0mpixelmed_calc\u001b[0m\u001b[1;33m.\u001b[0m\u001b[0mmedical_imaging\u001b[0m\u001b[1;33m.\u001b[0m\u001b[0mRadiologyComponents\u001b[0m\u001b[1;33m.\u001b[0m\u001b[0mhabitat_voi_feature\u001b[0m \u001b[1;32mimport\u001b[0m \u001b[0mhabitat_main\u001b[0m\u001b[1;33m\u001b[0m\u001b[1;33m\u001b[0m\u001b[0m\n\u001b[0m\u001b[0;32m      9\u001b[0m \u001b[1;32mimport\u001b[0m \u001b[0mos\u001b[0m\u001b[1;33m\u001b[0m\u001b[1;33m\u001b[0m\u001b[0m\n\u001b[0;32m     10\u001b[0m \u001b[0mimgage_path\u001b[0m\u001b[1;33m=\u001b[0m\u001b[1;34mr\"D:\\pixelmedAI\\function_pm\\pm_data\\liangxing\\images\"\u001b[0m\u001b[1;33m\u001b[0m\u001b[1;33m\u001b[0m\u001b[0m\n\u001b[0;32m     11\u001b[0m \u001b[0mmask_path\u001b[0m\u001b[1;33m=\u001b[0m\u001b[1;34mr\"D:\\pixelmedAI\\function_pm\\pm_data\\liangxing\\masks\"\u001b[0m\u001b[1;33m\u001b[0m\u001b[1;33m\u001b[0m\u001b[0m\n",
      "\u001b[1;32md:\\pixelmedAI\\envs\\pixelmed38\\lib\\site-packages\\pixelmed_calc\\medical_imaging\\RadiologyComponents\\habitat_voi_feature.py\u001b[0m in \u001b[0;36m?\u001b[1;34m(image_dir, mask_dir, output_dir, whole_no, label_id, Haralick_param_file, Hessian_param_file, num_pr_work, overwrite, skip_pixel_num)\u001b[0m\n\u001b[0;32m    210\u001b[0m                 \u001b[0mtraceback\u001b[0m\u001b[1;33m.\u001b[0m\u001b[0mprint_exc\u001b[0m\u001b[1;33m(\u001b[0m\u001b[1;33m)\u001b[0m\u001b[1;33m\u001b[0m\u001b[1;33m\u001b[0m\u001b[0m\n\u001b[0;32m    211\u001b[0m                 \u001b[0mprint\u001b[0m\u001b[1;33m(\u001b[0m\u001b[1;34mf\"Error processing{ipath}，{e}\"\u001b[0m\u001b[1;33m)\u001b[0m\u001b[1;33m\u001b[0m\u001b[1;33m\u001b[0m\u001b[0m\n\u001b[0;32m    212\u001b[0m             \u001b[1;32mfinally\u001b[0m\u001b[1;33m:\u001b[0m\u001b[1;33m\u001b[0m\u001b[1;33m\u001b[0m\u001b[0m\n\u001b[0;32m    213\u001b[0m                 \u001b[0me\u001b[0m \u001b[1;33m=\u001b[0m \u001b[1;32mNone\u001b[0m\u001b[1;33m\u001b[0m\u001b[1;33m\u001b[0m\u001b[0m\n\u001b[1;32m--> 214\u001b[1;33m                 \u001b[1;32mdel\u001b[0m \u001b[0me\u001b[0m\u001b[1;33m\u001b[0m\u001b[1;33m\u001b[0m\u001b[0m\n\u001b[0m",
      "\u001b[1;32md:\\pixelmedAI\\envs\\pixelmed38\\lib\\site-packages\\pixelmed_calc\\medical_imaging\\RadiologyComponents\\habitat_voi_feature.py\u001b[0m in \u001b[0;36m?\u001b[1;34m(featureVector, vseeel_feature, sub_img, sub_mask, mask_id_spec, workers, settings, skip_threshold)\u001b[0m\n\u001b[0;32m    128\u001b[0m     \u001b[1;32mif\u001b[0m \u001b[0mworkers\u001b[0m \u001b[1;33m>\u001b[0m \u001b[1;36m1\u001b[0m\u001b[1;33m:\u001b[0m\u001b[1;33m\u001b[0m\u001b[1;33m\u001b[0m\u001b[0m\n\u001b[0;32m    129\u001b[0m             \u001b[0mexit\u001b[0m\u001b[1;33m(\u001b[0m\u001b[1;33m)\u001b[0m\u001b[1;33m\u001b[0m\u001b[1;33m\u001b[0m\u001b[0m\n\u001b[0;32m    130\u001b[0m     \u001b[1;32melse\u001b[0m\u001b[1;33m:\u001b[0m\u001b[1;33m\u001b[0m\u001b[1;33m\u001b[0m\u001b[0m\n\u001b[0;32m    131\u001b[0m         \u001b[1;32mfor\u001b[0m \u001b[0mp\u001b[0m\u001b[1;33m,\u001b[0m \u001b[0mq\u001b[0m\u001b[1;33m,\u001b[0m \u001b[0mr\u001b[0m \u001b[1;32min\u001b[0m \u001b[0mzip\u001b[0m\u001b[1;33m(\u001b[0m\u001b[0mps\u001b[0m\u001b[1;33m,\u001b[0m \u001b[0mqs\u001b[0m\u001b[1;33m,\u001b[0m \u001b[0mrs\u001b[0m\u001b[1;33m)\u001b[0m\u001b[1;33m:\u001b[0m\u001b[1;33m\u001b[0m\u001b[1;33m\u001b[0m\u001b[0m\n\u001b[1;32m--> 132\u001b[1;33m             \u001b[0mfeatures\u001b[0m\u001b[1;33m,\u001b[0m \u001b[0mfeature_name\u001b[0m \u001b[1;33m=\u001b[0m \u001b[0mgain_feature_unit3D\u001b[0m\u001b[1;33m(\u001b[0m\u001b[0mfeatureVector\u001b[0m\u001b[1;33m,\u001b[0m\u001b[0mvseeel_feature\u001b[0m\u001b[1;33m,\u001b[0m\u001b[0msub_img\u001b[0m\u001b[1;33m,\u001b[0m \u001b[0mp\u001b[0m\u001b[1;33m,\u001b[0m \u001b[0mq\u001b[0m\u001b[1;33m,\u001b[0m \u001b[0mr\u001b[0m\u001b[1;33m,\u001b[0m \u001b[0mpadding\u001b[0m\u001b[1;33m=\u001b[0m\u001b[1;36m2\u001b[0m\u001b[1;33m,\u001b[0m \u001b[0msettings\u001b[0m\u001b[1;33m=\u001b[0m\u001b[0msettings\u001b[0m\u001b[1;33m)\u001b[0m\u001b[1;33m\u001b[0m\u001b[1;33m\u001b[0m\u001b[0m\n\u001b[0m\u001b[0;32m    133\u001b[0m             \u001b[1;32mif\u001b[0m \u001b[0mmask_features\u001b[0m \u001b[1;32mis\u001b[0m \u001b[1;32mNone\u001b[0m\u001b[1;33m:\u001b[0m\u001b[1;33m\u001b[0m\u001b[1;33m\u001b[0m\u001b[0m\n\u001b[0;32m    134\u001b[0m                 \u001b[0mmask_features\u001b[0m \u001b[1;33m=\u001b[0m \u001b[0mnp\u001b[0m\u001b[1;33m.\u001b[0m\u001b[0mzeros\u001b[0m\u001b[1;33m(\u001b[0m\u001b[1;33m(\u001b[0m\u001b[0mlist\u001b[0m\u001b[1;33m(\u001b[0m\u001b[0msub_img\u001b[0m\u001b[1;33m.\u001b[0m\u001b[0mshape\u001b[0m\u001b[1;33m)\u001b[0m \u001b[1;33m+\u001b[0m \u001b[1;33m[\u001b[0m\u001b[0mlen\u001b[0m\u001b[1;33m(\u001b[0m\u001b[0mfeature_name\u001b[0m\u001b[1;33m)\u001b[0m\u001b[1;33m]\u001b[0m\u001b[1;33m)\u001b[0m\u001b[1;33m,\u001b[0m \u001b[0mdtype\u001b[0m\u001b[1;33m=\u001b[0m\u001b[1;33m(\u001b[0m\u001b[0mnp\u001b[0m\u001b[1;33m.\u001b[0m\u001b[0mfloat32\u001b[0m\u001b[1;33m)\u001b[0m\u001b[1;33m)\u001b[0m\u001b[1;33m\u001b[0m\u001b[1;33m\u001b[0m\u001b[0m\n\u001b[0;32m    135\u001b[0m             \u001b[0mmask_features\u001b[0m\u001b[1;33m[\u001b[0m\u001b[1;33m(\u001b[0m\u001b[0mp\u001b[0m\u001b[1;33m,\u001b[0m \u001b[0mq\u001b[0m\u001b[1;33m,\u001b[0m \u001b[0mr\u001b[0m\u001b[1;33m)\u001b[0m\u001b[1;33m]\u001b[0m \u001b[1;33m=\u001b[0m \u001b[1;33m[\u001b[0m\u001b[0mfeatures\u001b[0m\u001b[1;33m[\u001b[0m\u001b[0mfn\u001b[0m\u001b[1;33m]\u001b[0m \u001b[1;32mfor\u001b[0m \u001b[0mfn\u001b[0m \u001b[1;32min\u001b[0m \u001b[0msorted\u001b[0m\u001b[1;33m(\u001b[0m\u001b[0mfeature_name\u001b[0m\u001b[1;33m)\u001b[0m\u001b[1;33m]\u001b[0m\u001b[1;33m\u001b[0m\u001b[1;33m\u001b[0m\u001b[0m\n",
      "\u001b[1;32md:\\pixelmedAI\\envs\\pixelmed38\\lib\\site-packages\\pixelmed_calc\\medical_imaging\\RadiologyComponents\\habitat_voi_feature.py\u001b[0m in \u001b[0;36m?\u001b[1;34m(featureVector, vseeel_feature, sub_img, p, q, r, padding, settings)\u001b[0m\n\u001b[0;32m     80\u001b[0m         \u001b[0mfeatures_temp\u001b[0m\u001b[1;33m:\u001b[0m \u001b[0mDict\u001b[0m\u001b[1;33m.\u001b[0m \u001b[0mA\u001b[0m \u001b[0mdictionary\u001b[0m \u001b[0mcontains\u001b[0m \u001b[0mall\u001b[0m \u001b[0mthe\u001b[0m \u001b[0mradiomic\u001b[0m \u001b[0mfeatures\u001b[0m \u001b[1;32mwith\u001b[0m \u001b[0mkeys\u001b[0m \u001b[0mused\u001b[0m \u001b[1;32min\u001b[0m \u001b[1;34m\"pyradiomics\"\u001b[0m\u001b[1;33m\u001b[0m\u001b[1;33m\u001b[0m\u001b[0m\n\u001b[0;32m     81\u001b[0m     \"\"\"\n\u001b[0;32m     82\u001b[0m     \u001b[0mmask\u001b[0m \u001b[1;33m=\u001b[0m \u001b[0mnp\u001b[0m\u001b[1;33m.\u001b[0m\u001b[0mzeros_like\u001b[0m\u001b[1;33m(\u001b[0m\u001b[0msub_img\u001b[0m\u001b[1;33m)\u001b[0m\u001b[1;33m\u001b[0m\u001b[1;33m\u001b[0m\u001b[0m\n\u001b[0;32m     83\u001b[0m     \u001b[0mmask\u001b[0m\u001b[1;33m[\u001b[0m\u001b[0mp\u001b[0m \u001b[1;33m-\u001b[0m \u001b[0mpadding\u001b[0m\u001b[1;33m:\u001b[0m\u001b[0mp\u001b[0m \u001b[1;33m+\u001b[0m \u001b[0mpadding\u001b[0m \u001b[1;33m+\u001b[0m \u001b[1;36m1\u001b[0m\u001b[1;33m,\u001b[0m \u001b[0mq\u001b[0m \u001b[1;33m-\u001b[0m \u001b[0mpadding\u001b[0m\u001b[1;33m:\u001b[0m\u001b[0mq\u001b[0m \u001b[1;33m+\u001b[0m \u001b[0mpadding\u001b[0m \u001b[1;33m+\u001b[0m \u001b[1;36m1\u001b[0m\u001b[1;33m,\u001b[0m \u001b[0mr\u001b[0m \u001b[1;33m-\u001b[0m \u001b[0mpadding\u001b[0m\u001b[1;33m:\u001b[0m\u001b[0mr\u001b[0m \u001b[1;33m+\u001b[0m \u001b[0mpadding\u001b[0m \u001b[1;33m+\u001b[0m \u001b[1;36m1\u001b[0m\u001b[1;33m]\u001b[0m \u001b[1;33m=\u001b[0m \u001b[1;36m1\u001b[0m\u001b[1;33m\u001b[0m\u001b[1;33m\u001b[0m\u001b[0m\n\u001b[1;32m---> 84\u001b[1;33m     \u001b[0mimg_ex\u001b[0m \u001b[1;33m=\u001b[0m \u001b[0msitk\u001b[0m\u001b[1;33m.\u001b[0m\u001b[0mGetImageFromArray\u001b[0m\u001b[1;33m(\u001b[0m\u001b[0msub_img\u001b[0m\u001b[1;33m)\u001b[0m\u001b[1;33m\u001b[0m\u001b[1;33m\u001b[0m\u001b[0m\n\u001b[0m\u001b[0;32m     85\u001b[0m     \u001b[0mmask_ex\u001b[0m \u001b[1;33m=\u001b[0m \u001b[0msitk\u001b[0m\u001b[1;33m.\u001b[0m\u001b[0mGetImageFromArray\u001b[0m\u001b[1;33m(\u001b[0m\u001b[0mmask\u001b[0m\u001b[1;33m)\u001b[0m\u001b[1;33m\u001b[0m\u001b[1;33m\u001b[0m\u001b[0m\n\u001b[0;32m     86\u001b[0m     \u001b[0mroi_values\u001b[0m \u001b[1;33m=\u001b[0m \u001b[0msub_img\u001b[0m\u001b[1;33m[\u001b[0m\u001b[0mmask\u001b[0m \u001b[1;33m>\u001b[0m \u001b[1;36m0\u001b[0m\u001b[1;33m]\u001b[0m\u001b[1;33m\u001b[0m\u001b[1;33m\u001b[0m\u001b[0m\n\u001b[0;32m     87\u001b[0m     \u001b[0mmean_value\u001b[0m \u001b[1;33m=\u001b[0m \u001b[0mnp\u001b[0m\u001b[1;33m.\u001b[0m\u001b[0mmax\u001b[0m\u001b[1;33m(\u001b[0m\u001b[0mroi_values\u001b[0m\u001b[1;33m)\u001b[0m\u001b[1;33m\u001b[0m\u001b[1;33m\u001b[0m\u001b[0m\n",
      "\u001b[1;32md:\\pixelmedAI\\envs\\pixelmed38\\lib\\site-packages\\SimpleITK\\extra.py\u001b[0m in \u001b[0;36m?\u001b[1;34m(arr, isVector)\u001b[0m\n\u001b[0;32m    320\u001b[0m         \u001b[0mid\u001b[0m \u001b[1;33m=\u001b[0m \u001b[0m_get_sitk_pixelid\u001b[0m\u001b[1;33m(\u001b[0m\u001b[0mz\u001b[0m\u001b[1;33m)\u001b[0m\u001b[1;33m\u001b[0m\u001b[1;33m\u001b[0m\u001b[0m\n\u001b[0;32m    321\u001b[0m         \u001b[0mshape\u001b[0m \u001b[1;33m=\u001b[0m \u001b[0mz\u001b[0m\u001b[1;33m.\u001b[0m\u001b[0mshape\u001b[0m\u001b[1;33m[\u001b[0m\u001b[1;33m:\u001b[0m\u001b[1;33m:\u001b[0m\u001b[1;33m-\u001b[0m\u001b[1;36m1\u001b[0m\u001b[1;33m]\u001b[0m\u001b[1;33m\u001b[0m\u001b[1;33m\u001b[0m\u001b[0m\n\u001b[0;32m    322\u001b[0m \u001b[1;33m\u001b[0m\u001b[0m\n\u001b[0;32m    323\u001b[0m     \u001b[1;31m# SimpleITK throws an exception if the image dimension is not supported\u001b[0m\u001b[1;33m\u001b[0m\u001b[1;33m\u001b[0m\u001b[1;33m\u001b[0m\u001b[0m\n\u001b[1;32m--> 324\u001b[1;33m     \u001b[0mimg\u001b[0m \u001b[1;33m=\u001b[0m \u001b[0mImage\u001b[0m\u001b[1;33m(\u001b[0m\u001b[0mshape\u001b[0m\u001b[1;33m,\u001b[0m \u001b[0mid\u001b[0m\u001b[1;33m,\u001b[0m \u001b[0mnumber_of_components\u001b[0m\u001b[1;33m)\u001b[0m\u001b[1;33m\u001b[0m\u001b[1;33m\u001b[0m\u001b[0m\n\u001b[0m\u001b[0;32m    325\u001b[0m \u001b[1;33m\u001b[0m\u001b[0m\n\u001b[0;32m    326\u001b[0m     \u001b[0m_SetImageFromArray\u001b[0m\u001b[1;33m(\u001b[0m\u001b[0mz\u001b[0m\u001b[1;33m,\u001b[0m \u001b[0mimg\u001b[0m\u001b[1;33m)\u001b[0m\u001b[1;33m\u001b[0m\u001b[1;33m\u001b[0m\u001b[0m\n\u001b[0;32m    327\u001b[0m \u001b[1;33m\u001b[0m\u001b[0m\n",
      "\u001b[1;32md:\\pixelmedAI\\envs\\pixelmed38\\lib\\site-packages\\SimpleITK\\SimpleITK.py\u001b[0m in \u001b[0;36m?\u001b[1;34m(self, *args)\u001b[0m\n\u001b[0;32m   3124\u001b[0m \u001b[1;33m\u001b[0m\u001b[0m\n\u001b[0;32m   3125\u001b[0m \u001b[1;33m\u001b[0m\u001b[0m\n\u001b[0;32m   3126\u001b[0m \u001b[1;33m\u001b[0m\u001b[0m\n\u001b[0;32m   3127\u001b[0m         \"\"\"\n\u001b[1;32m-> 3128\u001b[1;33m         \u001b[0m_SimpleITK\u001b[0m\u001b[1;33m.\u001b[0m\u001b[0mImage_swiginit\u001b[0m\u001b[1;33m(\u001b[0m\u001b[0mself\u001b[0m\u001b[1;33m,\u001b[0m \u001b[0m_SimpleITK\u001b[0m\u001b[1;33m.\u001b[0m\u001b[0mnew_Image\u001b[0m\u001b[1;33m(\u001b[0m\u001b[1;33m*\u001b[0m\u001b[0margs\u001b[0m\u001b[1;33m)\u001b[0m\u001b[1;33m)\u001b[0m\u001b[1;33m\u001b[0m\u001b[1;33m\u001b[0m\u001b[0m\n\u001b[0m",
      "\u001b[1;31mKeyboardInterrupt\u001b[0m: "
     ]
    }
   ],
   "source": [
    "from pixelmed_calc.medical_imaging.RadiologyComponents.habitat_voi_feature import habitat_main\n",
    "import os\n",
    "imgage_path=r\"D:\\pixelmedAI\\function_pm\\pm_data\\liangxing\\images\"\n",
    "mask_path=r\"D:\\pixelmedAI\\function_pm\\pm_data\\liangxing\\masks\"\n",
    "out_dir= 'out_tmp'\n",
    "Haralick_param_file=r\"exampleCT.yaml\"\n",
    "Hessian_param_file=r\"config.ini\"\n",
    "habitat_main(imgage_path, mask_path,out_dir, \n",
    "                  label_id=1, \n",
    "Haralick_param_file=Haralick_param_file,\n",
    "                 Hessian_param_file=Hessian_param_file)"
   ]
  },
  {
   "cell_type": "markdown",
   "metadata": {},
   "source": [
    "## 亚区域聚类生成"
   ]
  },
  {
   "cell_type": "code",
   "execution_count": null,
   "metadata": {},
   "outputs": [],
   "source": [
    "from pixelmed_calc.medical_imaging.RadiologyComponents.habitat_voi import cluster_main\n",
    "import os\n",
    "imgage_path='out_tmp/feature_map'\n",
    "mask_path=r\"D:\\pixelmedAI\\function_pm\\pm_data\\liangxing\\masks\"\n",
    "o_dir='out_cluster'\n",
    "ch = cluster_main(imgage_path, mask_path, o_dir, num_cluster=5)\n",
    "ch.to_csv(os.path.join(o_dir, 'ch_scores1.csv'), index=False)"
   ]
  },
  {
   "cell_type": "markdown",
   "metadata": {},
   "source": [
    "## 聚类可视化"
   ]
  },
  {
   "cell_type": "code",
   "execution_count": null,
   "metadata": {},
   "outputs": [],
   "source": [
    "from pixelmed_calc.medical_imaging.RadiologyComponents.habitat_viz import find_best_angles_viz\n",
    "\n",
    "find_best_angles_viz(r\"D:\\pixelmedAI\\function_pm\\note1—影像组学\\生境影像\\out_cluster\\clusters_data1.nii.gz.npz\", sample_ratio=1,elev_angles=range(0, 91, 30), azim_angles=range(0, 361, 60)) "
   ]
  }
 ],
 "metadata": {
  "kernelspec": {
   "display_name": "pm38web",
   "language": "python",
   "name": "python3"
  },
  "language_info": {
   "codemirror_mode": {
    "name": "ipython",
    "version": 3
   },
   "file_extension": ".py",
   "mimetype": "text/x-python",
   "name": "python",
   "nbconvert_exporter": "python",
   "pygments_lexer": "ipython3",
   "version": "3.8.19"
  }
 },
 "nbformat": 4,
 "nbformat_minor": 2
}
