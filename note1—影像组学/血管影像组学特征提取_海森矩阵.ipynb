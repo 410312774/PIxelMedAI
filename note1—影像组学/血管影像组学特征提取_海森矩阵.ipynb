{
 "cells": [
  {
   "cell_type": "markdown",
   "metadata": {},
   "source": [
    "# 医学影像特征提取-Pixelmed AI\n",
    "\n",
    "海森矩阵特征"
   ]
  },
  {
   "cell_type": "code",
   "execution_count": 1,
   "metadata": {},
   "outputs": [
    {
     "name": "stdout",
     "output_type": "stream",
     "text": [
      "Added to sys.path: d:\\pixelmedAI\\envs\\pixelmed38\\lib\\site-packages\\pixelmed_calc\\medical_imaging\n",
      "Added to sys.path: d:\\pixelmedAI\\envs\\pixelmed38\\lib\\site-packages\\pixelmed_calc\\medical_imaging\n"
     ]
    },
    {
     "name": "stderr",
     "output_type": "stream",
     "text": [
      "d:\\pixelmedAI\\envs\\pixelmed38\\lib\\site-packages\\phasepack\\tools.py:11: UserWarning: \n",
      "Module 'pyfftw' (FFTW Python bindings) could not be imported. To install it, try\n",
      "running 'pip install pyfftw' from the terminal. Falling back on the slower\n",
      "'fftpack' module for 2D Fourier transforms.\n",
      "  warnings.warn(\"\"\"\n",
      "d:\\pixelmedAI\\envs\\pixelmed38\\lib\\site-packages\\pixelmed_calc\\medical_imaging\\PREDICT\\helpers\\orientation_functions.py:150: RuntimeWarning: invalid value encountered in sqrt\n",
      "  radii = np.sqrt(1. / evals)\n"
     ]
    },
    {
     "name": "stdout",
     "output_type": "stream",
     "text": [
      "Loading inputs.\n",
      "Load image and metadata file.\n",
      "Load semantics file.\n",
      "Load segmentation.\n",
      "Calculating image features.\n",
      "\t Computing LBP features.\n",
      "\t Computing GLCM features.\n",
      "\t Computing GLCMMS features.\n",
      "\t Computing GLRLM features.\n",
      "\t Computing GLSZM features.\n",
      "\t Computing NGTDM features.\n",
      "\t Computing Gabor features.\n",
      "\t -- Filtering slice 1 / 6.\n",
      "\t -- Filtering slice 2 / 6.\n",
      "\t -- Filtering slice 3 / 6.\n",
      "\t -- Filtering slice 4 / 6.\n",
      "\t -- Filtering slice 5 / 6.\n",
      "\t -- Filtering slice 6 / 6.\n"
     ]
    },
    {
     "name": "stderr",
     "output_type": "stream",
     "text": [
      "d:\\pixelmedAI\\envs\\pixelmed38\\lib\\site-packages\\pixelmed_calc\\medical_imaging\\PREDICT\\imagefeatures\\vessel_features.py:64: UserWarning: Use keyword parameter `sigmas` instead of `scale_range` and `scale_range` which will be removed in version 0.17.\n",
      "  Frangi_image[:, :, i_slice] = frangi(image[:, :, i_slice].astype(np.uint8), scale_range=i_sr, scale_step=i_ss)\n"
     ]
    },
    {
     "name": "stdout",
     "output_type": "stream",
     "text": [
      "[PREDICT Warning] Vessel features, inner area empty. Using zeros.\n",
      "Loading inputs.\n",
      "Load image and metadata file.\n",
      "Load semantics file.\n",
      "Load segmentation.\n",
      "Calculating image features.\n",
      "\t Computing LBP features.\n",
      "\t Computing GLCM features.\n",
      "\t Computing GLCMMS features.\n",
      "\t Computing GLRLM features.\n",
      "\t Computing GLSZM features.\n",
      "\t Computing NGTDM features.\n",
      "\t Computing Gabor features.\n",
      "\t -- Filtering slice 1 / 16.\n",
      "\t -- Filtering slice 2 / 16.\n",
      "\t -- Filtering slice 3 / 16.\n",
      "\t -- Filtering slice 4 / 16.\n",
      "\t -- Filtering slice 5 / 16.\n",
      "\t -- Filtering slice 6 / 16.\n",
      "\t -- Filtering slice 7 / 16.\n",
      "\t -- Filtering slice 8 / 16.\n",
      "\t -- Filtering slice 9 / 16.\n",
      "\t -- Filtering slice 10 / 16.\n",
      "\t -- Filtering slice 11 / 16.\n",
      "\t -- Filtering slice 12 / 16.\n",
      "\t -- Filtering slice 13 / 16.\n",
      "\t -- Filtering slice 14 / 16.\n",
      "\t -- Filtering slice 15 / 16.\n",
      "\t -- Filtering slice 16 / 16.\n",
      "Loading inputs.\n",
      "Load image and metadata file.\n",
      "Load semantics file.\n",
      "Load segmentation.\n",
      "Calculating image features.\n",
      "\t Computing LBP features.\n",
      "\t Computing GLCM features.\n",
      "\t Computing GLCMMS features.\n",
      "\t Computing GLRLM features.\n",
      "\t Computing GLSZM features.\n",
      "\t Computing NGTDM features.\n",
      "\t Computing Gabor features.\n",
      "\t -- Filtering slice 1 / 9.\n",
      "\t -- Filtering slice 2 / 9.\n",
      "\t -- Filtering slice 3 / 9.\n",
      "\t -- Filtering slice 4 / 9.\n",
      "\t -- Filtering slice 5 / 9.\n",
      "\t -- Filtering slice 6 / 9.\n",
      "\t -- Filtering slice 7 / 9.\n",
      "\t -- Filtering slice 8 / 9.\n",
      "\t -- Filtering slice 9 / 9.\n",
      "[PREDICT Warning] Vessel features, inner area empty. Using zeros.\n",
      "Feature extraction completed and saved to 'vseeel_features.csv'.\n"
     ]
    }
   ],
   "source": [
    "\n",
    "import os\n",
    "from pixelmed_calc.medical_imaging import PREDICT\n",
    "os.environ.get('PM_HOME')\n",
    "path=r\"D:\\pixelmedAI\\function_pm\\pm_data\\MR\"\n",
    "config_predict=r\"D:\\pixelmedAI\\function_pm\\note1—影像组学\\pyradiomics_settings\\config.ini\"\n",
    "output_csv='vessel.csv'\n",
    "\n",
    "PREDICT.extrafeature.vesselfeature(current_path =path,config_predict=config_predict,output_csv=output_csv)"
   ]
  },
  {
   "cell_type": "code",
   "execution_count": null,
   "metadata": {},
   "outputs": [],
   "source": []
  }
 ],
 "metadata": {
  "kernelspec": {
   "display_name": "pm38web",
   "language": "python",
   "name": "python3"
  },
  "language_info": {
   "codemirror_mode": {
    "name": "ipython",
    "version": 3
   },
   "file_extension": ".py",
   "mimetype": "text/x-python",
   "name": "python",
   "nbconvert_exporter": "python",
   "pygments_lexer": "ipython3",
   "version": "3.8.19"
  }
 },
 "nbformat": 4,
 "nbformat_minor": 2
}
