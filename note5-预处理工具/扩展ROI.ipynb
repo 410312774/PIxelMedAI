{
 "cells": [
  {
   "cell_type": "code",
   "execution_count": 11,
   "metadata": {},
   "outputs": [],
   "source": [
    "\n",
    "import SimpleITK as sitk\n",
    "import numpy as np\n",
    "import os\n",
    "from pixelmed_calc.medical_imaging.RadiologyComponents.extrafeature import extract_image_and_mask_paths_from_directory\n",
    "from pixelmed_calc.medical_imaging.RadiologyComponents.tools.paddingmask import process_images\n",
    "os.makedirs('results/img', exist_ok=True)\n",
    "os.makedirs('results/mask', exist_ok=True)\n",
    "path_str=r\"D:\\pixelmedAI\\function_pm\\pm_data\\Task09_Hippocampus\" \n",
    "method_str='directory'\n",
    "images_str='/Users/y2k/workstation_y2k/132qianliexian/qianliex_viz/imgT2'\n",
    "masks='/Users/y2k/workstation_y2k/132qianliexian/qianliex_viz/maskT2'\n",
    "images, masks = extract_image_and_mask_paths_from_directory(\n",
    "            path=path_str,\n",
    "            method=method_str,  # 默认为 'directory'\n",
    "            images=images_str,  # 默认为 'images'\n",
    "            masks=masks,    # 默认为 'masks'\n",
    "        )\n",
    "#iteration 扩展几个体素 1mm\n",
    "#指定扩展的label \n",
    "for img ,mask in zip(images,masks):\n",
    "    process_images(img, mask,iteration=3,label=1)\n",
    "\n",
    "\n"
   ]
  }
 ],
 "metadata": {
  "kernelspec": {
   "display_name": "pm38web",
   "language": "python",
   "name": "python3"
  },
  "language_info": {
   "codemirror_mode": {
    "name": "ipython",
    "version": 3
   },
   "file_extension": ".py",
   "mimetype": "text/x-python",
   "name": "python",
   "nbconvert_exporter": "python",
   "pygments_lexer": "ipython3",
   "version": "3.8.18"
  }
 },
 "nbformat": 4,
 "nbformat_minor": 2
}
