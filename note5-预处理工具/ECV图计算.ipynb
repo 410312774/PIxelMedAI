{
 "cells": [
  {
   "cell_type": "code",
   "execution_count": 1,
   "metadata": {},
   "outputs": [
    {
     "name": "stdout",
     "output_type": "stream",
     "text": [
      "正在校验授权信息，请稍等...\n",
      "您的设备获得授权，授权有效期至【2099-05-20 12:00:00】\n",
      "固定图像： d:\\pixelmedAI\\function_pm\\pm_data\\ECV\\nocontrast\\3.nii.gz 移动图像： D:\\pixelmedAI\\function_pm\\pm_data\\ECV\\vein\\3.nii.gz\n"
     ]
    }
   ],
   "source": [
    "from pixelmed_calc.medical_imaging.DLtools.utils import load_ecvdata_from_csv\n",
    "import os\n",
    "os.environ['KMP_DUPLICATE_LIB_OK'] = 'True'\n",
    "## 指定参数\n",
    "base_path_fix=r\"d:\\pixelmedAI\\function_pm\\pm_data\\ECV\\nocontrast\"\n",
    "base_path_move=r\"D:\\pixelmedAI\\function_pm\\pm_data\\ECV\\vein\"\n",
    "#ecv_file需要ID列以及HCT\\preHU\\postHU\n",
    "ecv_file=r\"D:\\pixelmedAI\\function_pm\\pm_data\\ECV\\ecvlist.csv\"\n",
    "os.makedirs('ecv_out',exist_ok=True)\n",
    "##--运行\n",
    "filelist,hctlist,preHUlist,postHUlist=load_ecvdata_from_csv(ecv_file)\n",
    "fixfile = [os.path.join(base_path_fix, filelist[i]) for i in range(len(filelist))]\n",
    "movefile = [os.path.join(base_path_move, filelist[i]) for i in range(len(filelist))]\n",
    "for fix,move in zip(fixfile,movefile):  \n",
    "    print('固定图像：',fix,'移动图像：',move)"
   ]
  },
  {
   "cell_type": "code",
   "execution_count": 3,
   "metadata": {},
   "outputs": [
    {
     "name": "stdout",
     "output_type": "stream",
     "text": [
      "固定图像： d:\\pixelmedAI\\function_pm\\pm_data\\ECV\\nocontrast\\3.nii.gz 移动图像： D:\\pixelmedAI\\function_pm\\pm_data\\ECV\\vein\\3.nii.gz\n"
     ]
    }
   ],
   "source": [
    "from pixelmed_calc.medical_imaging.RadiologyComponents.tools.ecv import register_images\n",
    "\n",
    "for fix,move,hct,preHU,postHU in zip(fixfile,movefile,hctlist,preHUlist,postHUlist):  \n",
    "    print('固定图像：',fix,'移动图像：',move)\n",
    "    register_images(fix,move,hct,preHU,postHU,os.path.join('ecv_out',os.path.basename(fix)))\n"
   ]
  }
 ],
 "metadata": {
  "kernelspec": {
   "display_name": "Python 3",
   "language": "python",
   "name": "python3"
  },
  "language_info": {
   "codemirror_mode": {
    "name": "ipython",
    "version": 3
   },
   "file_extension": ".py",
   "mimetype": "text/x-python",
   "name": "python",
   "nbconvert_exporter": "python",
   "pygments_lexer": "ipython3",
   "version": "3.8.19"
  }
 },
 "nbformat": 4,
 "nbformat_minor": 2
}
