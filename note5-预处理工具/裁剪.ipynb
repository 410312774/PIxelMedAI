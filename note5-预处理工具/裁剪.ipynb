{
 "cells": [
  {
   "cell_type": "code",
   "execution_count": 5,
   "metadata": {},
   "outputs": [
    {
     "name": "stdout",
     "output_type": "stream",
     "text": [
      "正在裁剪 D:\\pixelmedAI\\function_pm\\pm_data\\liangxing\\images\\data1.nii.gz\n",
      "正在裁剪 D:\\pixelmedAI\\function_pm\\pm_data\\liangxing\\images\\data10.nii.gz\n",
      "正在裁剪 D:\\pixelmedAI\\function_pm\\pm_data\\liangxing\\images\\data2.nii.gz\n",
      "正在裁剪 D:\\pixelmedAI\\function_pm\\pm_data\\liangxing\\images\\data3.nii.gz\n",
      "正在裁剪 D:\\pixelmedAI\\function_pm\\pm_data\\liangxing\\images\\data4.nii.gz\n",
      "正在裁剪 D:\\pixelmedAI\\function_pm\\pm_data\\liangxing\\images\\data5.nii.gz\n",
      "正在裁剪 D:\\pixelmedAI\\function_pm\\pm_data\\liangxing\\images\\data6.nii.gz\n",
      "正在裁剪 D:\\pixelmedAI\\function_pm\\pm_data\\liangxing\\images\\data7.nii.gz\n",
      "正在裁剪 D:\\pixelmedAI\\function_pm\\pm_data\\liangxing\\images\\data8.nii.gz\n",
      "正在裁剪 D:\\pixelmedAI\\function_pm\\pm_data\\liangxing\\images\\data9.nii.gz\n"
     ]
    }
   ],
   "source": [
    "from pixelmed_calc.medical_imaging.RadiologyComponents.extrafeature import extract_image_and_mask_paths_from_directory\n",
    "from pixelmed_calc.medical_imaging.RadiologyComponents.tools.crop_nii import crop_and_save_volume\n",
    "import os\n",
    "#配置参数\n",
    "margin=[2,2,2]\n",
    "image_crop_path = r\"D:\\pixelmedAI\\function_pm\\pm_data\\liangxing\\crop_image\"\n",
    "mask_crop_path=r\"D:\\pixelmedAI\\function_pm\\pm_data\\liangxing\\crop_mask\"\n",
    "os.makedirs(image_crop_path,exist_ok=True)\n",
    "os.makedirs(mask_crop_path,exist_ok=True)\n",
    "path_str=r\"D:\\pixelmedAI\\function_pm\\pm_data\\liangxing\"\n",
    "method_str='directory'\n",
    "images_str='images'\n",
    "masks='masks'\n",
    "\n",
    "#运行代码-----\n",
    "images, masks = extract_image_and_mask_paths_from_directory(\n",
    "            path=path_str,\n",
    "            method=method_str,  # 默认为 'directory'\n",
    "            images=images_str,  # 默认为 'images'\n",
    "            masks=masks,    # 默认为 'masks'\n",
    "        )\n",
    "\n",
    "for img ,mask in zip(images,masks):\n",
    "    print(\"正在裁剪\",img)\n",
    "    try:\n",
    "        crop_and_save_volume(img, \n",
    "                         os.path.join(image_crop_path,os.path.basename(img)),\n",
    "                         mask, \n",
    "                         os.path.join(mask_crop_path,os.path.basename(mask)),\n",
    "                         margin,\n",
    "                         label=1,order=4)\n",
    "    except:\n",
    "        print(f'请检查 图像以及mask {img}')"
   ]
  }
 ],
 "metadata": {
  "kernelspec": {
   "display_name": "pm38web",
   "language": "python",
   "name": "python3"
  },
  "language_info": {
   "codemirror_mode": {
    "name": "ipython",
    "version": 3
   },
   "file_extension": ".py",
   "mimetype": "text/x-python",
   "name": "python",
   "nbconvert_exporter": "python",
   "pygments_lexer": "ipython3",
   "version": "3.8.19"
  }
 },
 "nbformat": 4,
 "nbformat_minor": 2
}
