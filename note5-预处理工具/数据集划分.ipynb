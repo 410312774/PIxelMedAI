{
 "cells": [
  {
   "cell_type": "code",
   "execution_count": 1,
   "metadata": {},
   "outputs": [
    {
     "name": "stdout",
     "output_type": "stream",
     "text": [
      "['group_rand_0.csv', 'group_rand_1.csv', 'group_rand_2.csv', 'group_rand_3.csv', 'group_rand_4.csv']\n"
     ]
    }
   ],
   "source": [
    "from pixelmed_calc.medical_imaging.RadiologyComponents.solution import split_data_csv\n",
    "# 示例: 使用随机分组  \n",
    "print(split_data_csv('label_class1.csv', method='random',k=5, test_size=0.2))  \n"
   ]
  },
  {
   "cell_type": "code",
   "execution_count": 2,
   "metadata": {},
   "outputs": [
    {
     "name": "stdout",
     "output_type": "stream",
     "text": [
      "['group_fold_0.csv', 'group_fold_1.csv', 'group_fold_2.csv', 'group_fold_3.csv', 'group_fold_4.csv']\n"
     ]
    }
   ],
   "source": [
    "\n",
    "# 示例: 使用k-fold分组  \n",
    "print(split_data_csv('label_class1.csv', method='kfold', k=5))"
   ]
  }
 ],
 "metadata": {
  "kernelspec": {
   "display_name": "pm38web",
   "language": "python",
   "name": "python3"
  },
  "language_info": {
   "codemirror_mode": {
    "name": "ipython",
    "version": 3
   },
   "file_extension": ".py",
   "mimetype": "text/x-python",
   "name": "python",
   "nbconvert_exporter": "python",
   "pygments_lexer": "ipython3",
   "version": "3.8.19"
  }
 },
 "nbformat": 4,
 "nbformat_minor": 2
}
