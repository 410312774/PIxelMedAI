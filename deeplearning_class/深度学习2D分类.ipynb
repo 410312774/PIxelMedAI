{
 "cells": [
  {
   "cell_type": "markdown",
   "id": "e8b27860",
   "metadata": {},
   "source": [
    "# 2D分类任务\n",
    "分类任务，支持两种模式\n",
    "1. Folder模式，需要输入`train`, `valid`两个测试集对应的目录。`labels.txt`，需要训练的label，里面每个类别一行。\n",
    "2. List模式，需要输入`train`, `valid`两个测试集对应的训练文件，每行一个样本。`labels.txt`是可选参数，里面每个类别一行。`data_pattern`一个通用的目录，与train、val中的第一列进行拼接。"
   ]
  },
  {
   "cell_type": "markdown",
   "id": "b658a6a0",
   "metadata": {},
   "source": [
    "### Labelme数据标注\n",
    "\n",
    "在命令行启动labelme。\n",
    "\n",
    "#### 修改启动选项。\n",
    "   ```shell\n",
    "  \"C:\\Users\\yxzdxzj\\Desktop\\function\\tools\\labelme.exe\" --flags label1,label2,labeln\n",
    "   ```\n"
   ]
  },
  {
   "cell_type": "code",
   "execution_count": null,
   "id": "65dbc9fa",
   "metadata": {},
   "outputs": [],
   "source": [
    "import os\n",
    "os.environ['KMP_DUPLICATE_LIB_OK'] = 'True'\n",
    "\n",
    "from pixelmed_calc.scripts.core import clf_covert2rec\n",
    "\n",
    "input_dir = r\"E:\\function\\pm_data\\skin4clf\"\n",
    "save_dir = r\"E:\\function\\pm_data\\skin4clf_out\"\n",
    "partition = [0.8, 0.2]\n",
    "\n",
    "clf_covert2rec(input_dir, save_dir = save_dir, partition = partition)"
   ]
  },
  {
   "cell_type": "markdown",
   "id": "02dd7e75",
   "metadata": {},
   "source": [
    "### 支持的模型名称\n",
    "\n",
    "模型名称替换代码中的 `model_name`变量的值。\n",
    "\n",
    "| **模型系列** | **模型名称**                                                 |\n",
    "| ------------ | ------------------------------------------------------------ |\n",
    "| AlexNet      | alexnet                                                      |\n",
    "| VGG          | vgg11, vgg11_bn, vgg13, vgg13_bn, vgg16, vgg16_bn, vgg19_bn, vgg19 |\n",
    "| ResNet       | resnet18, resnet34, resnet50, resnet101, resnet152, resnext50_32x4d, resnext101_32x8d, wide_resnet50_2, wide_resnet101_2 |\n",
    "| DenseNet     | densenet121, densenet169, densenet201, densenet161           |\n",
    "| Inception    | googlenet, inception_v3                                      |\n",
    "| SqueezeNet   | squeezenet1_0, squeezenet1_1                                 |\n",
    "| ShuffleNetV2 | shufflenet_v2_x2_0, shufflenet_v2_x0_5, shufflenet_v2_x1_0, shufflenet_v2_x1_5 |\n",
    "| MobileNet    | mobilenet_v2, mobilenet_v3_large, mobilenet_v3_small         |\n",
    "| MNASNet      | mnasnet0_5, mnasnet0_75, mnasnet1_0, mnasnet1_3              |\n",
    "| Transformer      | ViT, SimpleViT            |"
   ]
  },
  {
   "cell_type": "markdown",
   "id": "0e861016",
   "metadata": {},
   "source": [
    "### List模式\n",
    "\n",
    "List模式一般是采用labelme标注出来的结果，如果要使用自己的数据应用List模式，需要根据自己的实际情况对数据进行处理。\n",
    "\n",
    "* `train.txt`，训练数据列表，中间用\\t（Tab水平制表符）进行分割。\n",
    "* `val.txt`，验证数据列表，中间用\\t（Tab水平制表符）进行分割。\n",
    "* `labels.txt`，label的集合，表明训练数据多少标签。\n",
    "* `data_pattern`参数，所有数据存在的目录的公共前缀，如果`train.txt`,`val.txt`文件里面存放的是绝对路径，`data_pattern`设置为None即可。\n",
    "\n",
    "vit模式如果出现报错：RuntimeError: The size of tensor a (49) must match the size of tensor b (64) at non-singleton dimension 1\n",
    "提示tensor不匹配，可能是patch太小，patch_size调小，变成32"
   ]
  },
  {
   "cell_type": "code",
   "execution_count": 1,
   "id": "7050436a",
   "metadata": {},
   "outputs": [
    {
     "name": "stderr",
     "output_type": "stream",
     "text": [
      "[2023-10-28 21:58:33 - ClassificationDataset.py: 637]\tINFO\tWE RECOMMEND YOU USE SPECIFY dataset_name LIKE list for ListDataset OR folder for FolderDataset.\n",
      "[2023-10-28 21:58:33 - ClassificationDataset.py:  82]\tINFO\tParsing record file E:\\function\\pm_data\\skin4clf_out\\train.txt\n",
      "[2023-10-28 21:58:33 - ClassificationDataset.py:  85]\tINFO\t\tChecking file exists in E:\\function\\pm_data\\skin4clf_out\\train.txt\n",
      "[2023-10-28 21:58:33 - ClassificationDataset.py: 648]\tINFO\tWe infer your kwargs to be <class 'pixelmed_calc.datasets.ClassificationDataset.ListDataset'>.\n",
      "[2023-10-28 21:58:33 - ClassificationDataset.py: 637]\tINFO\tWE RECOMMEND YOU USE SPECIFY dataset_name LIKE list for ListDataset OR folder for FolderDataset.\n",
      "[2023-10-28 21:58:33 - ClassificationDataset.py:  82]\tINFO\tParsing record file E:\\function\\pm_data\\skin4clf_out\\val.txt\n",
      "[2023-10-28 21:58:33 - ClassificationDataset.py:  85]\tINFO\t\tChecking file exists in E:\\function\\pm_data\\skin4clf_out\\val.txt\n",
      "[2023-10-28 21:58:33 - ClassificationDataset.py: 648]\tINFO\tWe infer your kwargs to be <class 'pixelmed_calc.datasets.ClassificationDataset.ListDataset'>.\n",
      "[2023-10-28 21:58:33 - about_log.py: 149]\tINFO\tTrain:Dataset is ListDataset\n",
      "[2023-10-28 21:58:33 - about_log.py: 149]\tINFO\t\tNumber of samples: 17\n",
      "[2023-10-28 21:58:33 - about_log.py: 149]\tINFO\t\tRoot location: E:\\function\\pm_data\\skin4clf_out\\images\n",
      "[2023-10-28 21:58:33 - about_log.py: 149]\tINFO\t\tLabels file is stored in E:\\function\\pm_data\\skin4clf_out\\labels.txt\n",
      "[2023-10-28 21:58:33 - about_log.py: 149]\tINFO\tValid:Dataset is ListDataset\n",
      "[2023-10-28 21:58:33 - about_log.py: 149]\tINFO\t\tNumber of samples: 5\n",
      "[2023-10-28 21:58:33 - about_log.py: 149]\tINFO\t\tRoot location: E:\\function\\pm_data\\skin4clf_out\\images\n",
      "[2023-10-28 21:58:33 - run_classification.py: 253]\tINFO\tCreating model...\n",
      "[2023-10-28 21:58:33 - simple_vit.py:  93]\tINFO\t正在使用 SimpleViT，具体参数为：images_size=256, patch_size=32, num_classes=3, dim=1024, depth=6, heads=16, mlp_dim=2048\n",
      "[2023-10-28 21:58:34 - run_classification.py: 290]\tINFO\tStart training...\n",
      "[2023-10-28 21:58:34 - common.py:  49]\tINFO\tSuccessfully delete directory .\\SimpleViT\\train\n",
      "[2023-10-28 21:58:34 - common.py:  49]\tINFO\tSuccessfully delete directory .\\SimpleViT\\valid\n",
      "[2023-10-28 21:58:34 - common.py:  49]\tINFO\tSuccessfully delete directory .\\SimpleViT\\viz\n"
     ]
    },
    {
     "ename": "RuntimeError",
     "evalue": "The size of tensor a (49) must match the size of tensor b (64) at non-singleton dimension 1",
     "output_type": "error",
     "traceback": [
      "\u001b[1;31m---------------------------------------------------------------------------\u001b[0m",
      "\u001b[1;31mRuntimeError\u001b[0m                              Traceback (most recent call last)",
      "\u001b[1;32m~\\AppData\\Local\\Temp\\ipykernel_13404\\1144970923.py\u001b[0m in \u001b[0;36m<module>\u001b[1;34m\u001b[0m\n\u001b[0;32m     35\u001b[0m \u001b[1;31m# 训练模型\u001b[0m\u001b[1;33m\u001b[0m\u001b[1;33m\u001b[0m\u001b[1;33m\u001b[0m\u001b[0m\n\u001b[0;32m     36\u001b[0m \u001b[0mArgs\u001b[0m \u001b[1;33m=\u001b[0m \u001b[0mnamedtuple\u001b[0m\u001b[1;33m(\u001b[0m\u001b[1;34m\"Args\"\u001b[0m\u001b[1;33m,\u001b[0m \u001b[0mparams\u001b[0m\u001b[1;33m)\u001b[0m\u001b[1;33m\u001b[0m\u001b[1;33m\u001b[0m\u001b[0m\n\u001b[1;32m---> 37\u001b[1;33m \u001b[0mclf_main\u001b[0m\u001b[1;33m(\u001b[0m\u001b[0mArgs\u001b[0m\u001b[1;33m(\u001b[0m\u001b[1;33m**\u001b[0m\u001b[0mparams\u001b[0m\u001b[1;33m)\u001b[0m\u001b[1;33m)\u001b[0m\u001b[1;33m\u001b[0m\u001b[1;33m\u001b[0m\u001b[0m\n\u001b[0m",
      "\u001b[1;32mE:\\envs\\pixelmed\\lib\\site-packages\\pixelmed_calc\\classification\\run_classification.py\u001b[0m in \u001b[0;36mmain\u001b[1;34m(args)\u001b[0m\n\u001b[0;32m    301\u001b[0m                                             \u001b[1;34m'device'\u001b[0m\u001b[1;33m:\u001b[0m \u001b[0mstr\u001b[0m\u001b[1;33m(\u001b[0m\u001b[0mdevice\u001b[0m\u001b[1;33m)\u001b[0m\u001b[1;33m,\u001b[0m\u001b[1;33m\u001b[0m\u001b[1;33m\u001b[0m\u001b[0m\n\u001b[0;32m    302\u001b[0m                                             'type': 'what'},\n\u001b[1;32m--> 303\u001b[1;33m                                  save_per_epoch=args.save_per_epoch)\n\u001b[0m\u001b[0;32m    304\u001b[0m \u001b[1;33m\u001b[0m\u001b[0m\n\u001b[0;32m    305\u001b[0m     logger.info(f'Done for training. Best is {max(hist)}@{hist.index(max(hist)) + 1} epoch. '\n",
      "\u001b[1;32mE:\\envs\\pixelmed\\lib\\site-packages\\pixelmed_calc\\classification\\run_classification.py\u001b[0m in \u001b[0;36mtrain_model\u001b[1;34m(model, device, dataloaders, batch_size, criterion, optimizer, lr_scheduler, num_epochs, iters_start, iters_verbose, save_dir, is_inception, save_per_epoch, **kwargs)\u001b[0m\n\u001b[0;32m    103\u001b[0m                         \u001b[0mloss\u001b[0m \u001b[1;33m=\u001b[0m \u001b[0mloss1\u001b[0m \u001b[1;33m+\u001b[0m \u001b[1;36m0.4\u001b[0m \u001b[1;33m*\u001b[0m \u001b[0mloss2\u001b[0m\u001b[1;33m\u001b[0m\u001b[1;33m\u001b[0m\u001b[0m\n\u001b[0;32m    104\u001b[0m                     \u001b[1;32melse\u001b[0m\u001b[1;33m:\u001b[0m\u001b[1;33m\u001b[0m\u001b[1;33m\u001b[0m\u001b[0m\n\u001b[1;32m--> 105\u001b[1;33m                         \u001b[0moutputs\u001b[0m \u001b[1;33m=\u001b[0m \u001b[0mmodel\u001b[0m\u001b[1;33m(\u001b[0m\u001b[0minputs\u001b[0m\u001b[1;33m)\u001b[0m\u001b[1;33m\u001b[0m\u001b[1;33m\u001b[0m\u001b[0m\n\u001b[0m\u001b[0;32m    106\u001b[0m                         \u001b[1;32mif\u001b[0m \u001b[1;32mnot\u001b[0m \u001b[0misinstance\u001b[0m\u001b[1;33m(\u001b[0m\u001b[0moutputs\u001b[0m\u001b[1;33m,\u001b[0m \u001b[0mTensor\u001b[0m\u001b[1;33m)\u001b[0m\u001b[1;33m:\u001b[0m\u001b[1;33m\u001b[0m\u001b[1;33m\u001b[0m\u001b[0m\n\u001b[0;32m    107\u001b[0m                             \u001b[0mloss1\u001b[0m \u001b[1;33m=\u001b[0m \u001b[0mcriterion\u001b[0m\u001b[1;33m(\u001b[0m\u001b[0moutputs\u001b[0m\u001b[1;33m.\u001b[0m\u001b[0mlogits\u001b[0m\u001b[1;33m,\u001b[0m \u001b[0mlabels\u001b[0m\u001b[1;33m)\u001b[0m\u001b[1;33m\u001b[0m\u001b[1;33m\u001b[0m\u001b[0m\n",
      "\u001b[1;32mE:\\envs\\pixelmed\\lib\\site-packages\\torch\\nn\\modules\\module.py\u001b[0m in \u001b[0;36m_call_impl\u001b[1;34m(self, *input, **kwargs)\u001b[0m\n\u001b[0;32m   1192\u001b[0m         if not (self._backward_hooks or self._forward_hooks or self._forward_pre_hooks or _global_backward_hooks\n\u001b[0;32m   1193\u001b[0m                 or _global_forward_hooks or _global_forward_pre_hooks):\n\u001b[1;32m-> 1194\u001b[1;33m             \u001b[1;32mreturn\u001b[0m \u001b[0mforward_call\u001b[0m\u001b[1;33m(\u001b[0m\u001b[1;33m*\u001b[0m\u001b[0minput\u001b[0m\u001b[1;33m,\u001b[0m \u001b[1;33m**\u001b[0m\u001b[0mkwargs\u001b[0m\u001b[1;33m)\u001b[0m\u001b[1;33m\u001b[0m\u001b[1;33m\u001b[0m\u001b[0m\n\u001b[0m\u001b[0;32m   1195\u001b[0m         \u001b[1;31m# Do not call functions when jit is used\u001b[0m\u001b[1;33m\u001b[0m\u001b[1;33m\u001b[0m\u001b[1;33m\u001b[0m\u001b[0m\n\u001b[0;32m   1196\u001b[0m         \u001b[0mfull_backward_hooks\u001b[0m\u001b[1;33m,\u001b[0m \u001b[0mnon_full_backward_hooks\u001b[0m \u001b[1;33m=\u001b[0m \u001b[1;33m[\u001b[0m\u001b[1;33m]\u001b[0m\u001b[1;33m,\u001b[0m \u001b[1;33m[\u001b[0m\u001b[1;33m]\u001b[0m\u001b[1;33m\u001b[0m\u001b[1;33m\u001b[0m\u001b[0m\n",
      "\u001b[1;32mE:\\envs\\pixelmed\\lib\\site-packages\\pixelmed_core\\models\\vits\\simple_vit.py\u001b[0m in \u001b[0;36mforward\u001b[1;34m(self, img)\u001b[0m\n\u001b[0;32m    125\u001b[0m \u001b[1;33m\u001b[0m\u001b[0m\n\u001b[0;32m    126\u001b[0m         \u001b[0mx\u001b[0m \u001b[1;33m=\u001b[0m \u001b[0mself\u001b[0m\u001b[1;33m.\u001b[0m\u001b[0mto_patch_embedding\u001b[0m\u001b[1;33m(\u001b[0m\u001b[0mimg\u001b[0m\u001b[1;33m)\u001b[0m\u001b[1;33m\u001b[0m\u001b[1;33m\u001b[0m\u001b[0m\n\u001b[1;32m--> 127\u001b[1;33m         \u001b[0mx\u001b[0m \u001b[1;33m+=\u001b[0m \u001b[0mself\u001b[0m\u001b[1;33m.\u001b[0m\u001b[0mpos_embedding\u001b[0m\u001b[1;33m.\u001b[0m\u001b[0mto\u001b[0m\u001b[1;33m(\u001b[0m\u001b[0mdevice\u001b[0m\u001b[1;33m,\u001b[0m \u001b[0mdtype\u001b[0m\u001b[1;33m=\u001b[0m\u001b[0mx\u001b[0m\u001b[1;33m.\u001b[0m\u001b[0mdtype\u001b[0m\u001b[1;33m)\u001b[0m\u001b[1;33m\u001b[0m\u001b[1;33m\u001b[0m\u001b[0m\n\u001b[0m\u001b[0;32m    128\u001b[0m \u001b[1;33m\u001b[0m\u001b[0m\n\u001b[0;32m    129\u001b[0m         \u001b[0mx\u001b[0m \u001b[1;33m=\u001b[0m \u001b[0mself\u001b[0m\u001b[1;33m.\u001b[0m\u001b[0mtransformer\u001b[0m\u001b[1;33m(\u001b[0m\u001b[0mx\u001b[0m\u001b[1;33m)\u001b[0m\u001b[1;33m\u001b[0m\u001b[1;33m\u001b[0m\u001b[0m\n",
      "\u001b[1;31mRuntimeError\u001b[0m: The size of tensor a (49) must match the size of tensor b (64) at non-singleton dimension 1"
     ]
    }
   ],
   "source": [
    "import os\n",
    "from pixelmed_calc.classification.run_classification import main as clf_main\n",
    "from collections import namedtuple\n",
    "\n",
    "# 设置参数\n",
    "save_dir = r'E:\\function\\pm_data\\skin4clf_out'\n",
    "train_f = os.path.join(save_dir, 'train.txt')\n",
    "val_f = os.path.join(save_dir, 'val.txt')\n",
    "labels_f = os.path.join(save_dir, 'labels.txt')\n",
    "data_pattern = os.path.join(save_dir, 'images')\n",
    "\n",
    "params = dict(train=train_f,\n",
    "              valid=val_f,\n",
    "              labels_file=labels_f,\n",
    "              data_pattern=data_pattern,\n",
    "              j=0,\n",
    "              max2use=None,\n",
    "              val_max2use=None,\n",
    "              batch_balance=False,\n",
    "              normalize_method='imagenet',\n",
    "              model_name='SimpleViT',\n",
    "              vit_settings = {'patch_size': 64, 'dim': 1024, 'depth': 6, 'heads': 16, 'mlp_dim': 2048},\n",
    "              gpus=[0],\n",
    "              batch_size=32,\n",
    "              epochs=5,\n",
    "              init_lr=0.01,\n",
    "              optimizer='sgd',\n",
    "              retrain=None,\n",
    "              model_root='.',\n",
    "              add_date=False,\n",
    "              iters_start=0,\n",
    "              iters_verbose=1,\n",
    "              save_per_epoch=False,\n",
    "              pretrained=False)\n",
    "# 训练模型\n",
    "Args = namedtuple(\"Args\", params)\n",
    "clf_main(Args(**params))"
   ]
  },
  {
   "cell_type": "markdown",
   "id": "dfbb2e69",
   "metadata": {},
   "source": [
    "### Folder模式\n",
    "\n",
    "Folder模式一般是采用手动拖拽标注出来的结果。\n",
    "\n",
    "* `train_dir`，训练数据存放的文件夹。\n",
    "* `val_dir`，验证数据存放的文件夹。\n",
    "* `labels_file`，label的集合，表明训练数据多少标签，\n",
    "    > 注意：在train_dir和val_dir下面必须存在相应数据量的子文件夹。"
   ]
  },
  {
   "cell_type": "code",
   "execution_count": null,
   "id": "e23e47b6",
   "metadata": {},
   "outputs": [],
   "source": [
    "import os\n",
    "from pixelmed_calc.classification.run_classification import main as clf_main\n",
    "from collections import namedtuple\n",
    "\n",
    "# 设置参数\n",
    "root_dir = r\"E:\\function\\pm_data\\skin4seg_out\"\n",
    "\n",
    "train_dir = os.path.join(root_dir, 'train')\n",
    "val_dir = os.path.join(root_dir, 'val')\n",
    "labels_file = os.path.join(root_dir, 'labels.txt')\n",
    "params = dict(train=train_dir,\n",
    "              valid=val_dir,\n",
    "              labels_file=labels_file,\n",
    "              data_pattern=None,\n",
    "              j=0,\n",
    "              max2use=None,\n",
    "              val_max2use=None,\n",
    "              batch_balance=False,\n",
    "              normalize_method='imagenet',\n",
    "              model_name='resnet50',\n",
    "              gpus=[0],\n",
    "              batch_size=8,\n",
    "              epochs=5,\n",
    "              init_lr=0.1,\n",
    "              optimizer='sgd',\n",
    "              retrain=None,\n",
    "              model_root='.',\n",
    "              add_date=False,\n",
    "              iters_start=0,\n",
    "              iters_verbose=1,\n",
    "              save_per_epoch=False,\n",
    "              pretrained=True)\n",
    "# 训练模型\n",
    "Args = namedtuple(\"Args\", params)\n",
    "clf_main(Args(**params))"
   ]
  },
  {
   "cell_type": "code",
   "execution_count": null,
   "id": "ce1f8dc1",
   "metadata": {},
   "outputs": [],
   "source": []
  }
 ],
 "metadata": {
  "kernelspec": {
   "display_name": "Python 3 (ipykernel)",
   "language": "python",
   "name": "python3"
  },
  "language_info": {
   "codemirror_mode": {
    "name": "ipython",
    "version": 3
   },
   "file_extension": ".py",
   "mimetype": "text/x-python",
   "name": "python",
   "nbconvert_exporter": "python",
   "pygments_lexer": "ipython3",
   "version": "3.7.16"
  }
 },
 "nbformat": 4,
 "nbformat_minor": 5
}
