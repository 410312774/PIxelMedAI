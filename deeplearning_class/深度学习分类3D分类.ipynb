{
 "cells": [
  {
   "cell_type": "markdown",
   "metadata": {},
   "source": [
    "# 分类任务3D\n",
    "分类任务，支持两种模式\n",
    "1. Folder模式，需要输入`train`, `valid`两个测试集对应的目录。`labels.txt`，需要训练的label，里面每个类别一行。\n",
    "2. List模式，需要输入`train`, `valid`两个测试集对应的训练文件，每行一个样本。`labels.txt`是可选参数，里面每个类别一行。`data_pattern`一个通用的目录，与train、val中的第一列进行拼接。"
   ]
  },
  {
   "cell_type": "markdown",
   "metadata": {},
   "source": [
    "### Folder模式\n"
   ]
  },
  {
   "cell_type": "code",
   "execution_count": 1,
   "metadata": {},
   "outputs": [
    {
     "name": "stderr",
     "output_type": "stream",
     "text": [
      "[2023-09-04 18:13:59 - ClassificationDataset.py: 637]\tINFO\tWE RECOMMEND YOU USE SPECIFY dataset_name LIKE list for ListDataset OR folder for FolderDataset.\n",
      "[2023-09-04 18:13:59 - ClassificationDataset.py: 292]\tINFO\tGetting samples in C:\\Users\\yxzdxzj\\Desktop\\function\\pm_data\\MR\\deeplearning\\train\n",
      "[2023-09-04 18:13:59 - ClassificationDataset.py: 304]\tINFO\t\tTotal got 11 samples in C:\\Users\\yxzdxzj\\Desktop\\function\\pm_data\\MR\\deeplearning\\train\\label0\n",
      "[2023-09-04 18:13:59 - ClassificationDataset.py: 304]\tINFO\t\tTotal got 10 samples in C:\\Users\\yxzdxzj\\Desktop\\function\\pm_data\\MR\\deeplearning\\train\\label1\n",
      "[2023-09-04 18:13:59 - ClassificationDataset.py: 648]\tINFO\tWe infer your kwargs to be <class 'pixelmed_calc.datasets.ClassificationDataset.FolderDataset'>.\n",
      "[2023-09-04 18:13:59 - ClassificationDataset.py: 637]\tINFO\tWE RECOMMEND YOU USE SPECIFY dataset_name LIKE list for ListDataset OR folder for FolderDataset.\n",
      "[2023-09-04 18:13:59 - ClassificationDataset.py: 292]\tINFO\tGetting samples in C:\\Users\\yxzdxzj\\Desktop\\function\\pm_data\\MR\\deeplearning\\val\n",
      "[2023-09-04 18:13:59 - ClassificationDataset.py: 304]\tINFO\t\tTotal got 6 samples in C:\\Users\\yxzdxzj\\Desktop\\function\\pm_data\\MR\\deeplearning\\val\\label0\n",
      "[2023-09-04 18:13:59 - ClassificationDataset.py: 304]\tINFO\t\tTotal got 5 samples in C:\\Users\\yxzdxzj\\Desktop\\function\\pm_data\\MR\\deeplearning\\val\\label1\n",
      "[2023-09-04 18:13:59 - ClassificationDataset.py: 648]\tINFO\tWe infer your kwargs to be <class 'pixelmed_calc.datasets.ClassificationDataset.FolderDataset'>.\n",
      "[2023-09-04 18:13:59 - about_log.py: 149]\tINFO\tTrain:Dataset is FolderDataset\n",
      "[2023-09-04 18:13:59 - about_log.py: 149]\tINFO\t\tSamples: 21,Classes: 2\n",
      "[2023-09-04 18:13:59 - about_log.py: 149]\tINFO\t\tRoot location: ['C:\\\\Users\\\\yxzdxzj\\\\Desktop\\\\function\\\\pm_data\\\\MR\\\\deeplearning\\\\train']\n",
      "[2023-09-04 18:13:59 - about_log.py: 149]\tINFO\t\tLabels file is stored in C:\\Users\\yxzdxzj\\Desktop\\function\\pm_data\\MR\\deeplearning\\labels.txt\n",
      "[2023-09-04 18:13:59 - about_log.py: 149]\tINFO\tValid:Dataset is FolderDataset\n",
      "[2023-09-04 18:13:59 - about_log.py: 149]\tINFO\t\tSamples: 11,Classes: 2\n",
      "[2023-09-04 18:13:59 - about_log.py: 149]\tINFO\t\tRoot location: ['C:\\\\Users\\\\yxzdxzj\\\\Desktop\\\\function\\\\pm_data\\\\MR\\\\deeplearning\\\\val']\n",
      "[2023-09-04 18:13:59 - about_log.py: 149]\tINFO\t\tLabels file is stored in C:\\Users\\yxzdxzj\\Desktop\\function\\pm_data\\MR\\deeplearning\\labels.txt\n",
      "[2023-09-04 18:14:00 - run_classification3d.py: 157]\tINFO\tepoch 1/2\n"
     ]
    },
    {
     "name": "stdout",
     "output_type": "stream",
     "text": [
      "成功加载C:\\Users\\yxzdxzj\\Desktop\\function\\pm_data\\pretrain\\resnet34.pth模型参数。\n"
     ]
    },
    {
     "name": "stderr",
     "output_type": "stream",
     "text": [
      "[2023-09-04 18:14:09 - run_classification3d.py:  70]\tINFO\t1/5, train_loss: 0.8632\n",
      "[2023-09-04 18:14:18 - run_classification3d.py:  70]\tINFO\t2/5, train_loss: 2.7333\n",
      "[2023-09-04 18:14:28 - run_classification3d.py:  70]\tINFO\t3/5, train_loss: 0.8760\n",
      "[2023-09-04 18:14:38 - run_classification3d.py:  70]\tINFO\t4/5, train_loss: 0.6655\n",
      "[2023-09-04 18:14:49 - run_classification3d.py:  70]\tINFO\t5/5, train_loss: 1.3469\n",
      "[2023-09-04 18:14:52 - run_classification3d.py:  70]\tINFO\t6/5, train_loss: 1.1828\n",
      "[2023-09-04 18:14:52 - run_classification3d.py:  78]\tINFO\tepoch 1 average loss: 1.2780\n",
      "[2023-09-04 18:15:01 - run_classification3d.py: 176]\tINFO\tcurrent epoch: 1 current accuracy: 0.5455 best accuracy: 0.5455 at epoch 1\n",
      "[2023-09-04 18:15:01 - run_classification3d.py: 157]\tINFO\tepoch 2/2\n",
      "[2023-09-04 18:15:12 - run_classification3d.py:  70]\tINFO\t1/5, train_loss: 0.6790\n",
      "[2023-09-04 18:15:23 - run_classification3d.py:  70]\tINFO\t2/5, train_loss: 0.9380\n",
      "[2023-09-04 18:15:35 - run_classification3d.py:  70]\tINFO\t3/5, train_loss: 0.7892\n",
      "[2023-09-04 18:15:47 - run_classification3d.py:  70]\tINFO\t4/5, train_loss: 0.7578\n",
      "[2023-09-04 18:15:59 - run_classification3d.py:  70]\tINFO\t5/5, train_loss: 0.5777\n",
      "[2023-09-04 18:16:02 - run_classification3d.py:  70]\tINFO\t6/5, train_loss: 0.5627\n",
      "[2023-09-04 18:16:02 - run_classification3d.py:  78]\tINFO\tepoch 2 average loss: 0.7174\n",
      "[2023-09-04 18:16:10 - run_classification3d.py: 176]\tINFO\tcurrent epoch: 2 current accuracy: 0.4545 best accuracy: 0.5455 at epoch 1\n",
      "[2023-09-04 18:16:10 - run_classification3d.py: 178]\tINFO\ttrain completed, best_metric: 0.5455 at epoch: 1\n"
     ]
    }
   ],
   "source": [
    "import os\n",
    "from collections import namedtuple\n",
    "\n",
    "from pixelmed_calc.classification3d.run_classification3d import main as clf_main3d\n",
    "# 设置参数\n",
    "root_dir = r'C:\\Users\\yxzdxzj\\Desktop\\function\\pm_data\\MR\\deeplearning'\n",
    "train_dir = os.path.join(root_dir, 'train')\n",
    "val_dir = os.path.join(root_dir, 'val')\n",
    "labels_file = os.path.join(root_dir, 'labels.txt')\n",
    "\n",
    "params = dict(train=train_dir,\n",
    "              val=val_dir,\n",
    "              labels_file=labels_file,\n",
    "              data_pattern=None,\n",
    "              j=0,\n",
    "              max2use=None,\n",
    "              normalize_method='imagenet',\n",
    "              model_name='resnet34',\n",
    "              gpus=[0],\n",
    "              batch_size=4,\n",
    "              epochs=2,\n",
    "              init_lr=0.001,\n",
    "              roi_size=[96, 96, 96],\n",
    "              optimizer='adam',\n",
    "              retrain=None,\n",
    "              model_root='.',\n",
    "              val_interval=1,\n",
    "              iters_verbose=1,\n",
    "              model_config={'groups':1,'blocks_args':'efficientent-b4'},\n",
    "              pretrained=True) #pretrained=True会载入模型C:\\Users\\yxzdxzj\\Desktop\\function\\pm_data\\pretrain\\resnet34.pth\n",
    "# 训练模型\n",
    "Args = namedtuple(\"Args\", params)\n",
    "clf_main3d(Args(**params))"
   ]
  },
  {
   "cell_type": "code",
   "execution_count": null,
   "metadata": {},
   "outputs": [],
   "source": [
    "import os\n",
    "from collections import namedtuple\n",
    "\n",
    "from pixelmed_calc.classification3d.run_classification3d import main as clf_main3d\n",
    "# 设置参数\n",
    "data_root = r'数据目录'\n",
    "train = os.path.join(data_root, 'train.txt')\n",
    "val = os.path.join(data_root, 'val.txt')\n",
    "data_pattern = os.path.join(data_root, 'crop')\n",
    "labels_file = os.path.join(data_root, 'labels.txt')\n",
    "\n",
    "params = dict(train=train,\n",
    "              val=val,\n",
    "              labels_file=labels_file,\n",
    "              data_pattern=data_pattern,\n",
    "              j=0,\n",
    "              max2use=None,\n",
    "              normalize_method='imagenet',\n",
    "              model_name='resnet50',\n",
    "              gpus=[0],\n",
    "              roi_size=[96, 96, 16],\n",
    "              batch_size=4,\n",
    "              epochs=96,\n",
    "              init_lr=0.001,\n",
    "              optimizer='adam',\n",
    "              retrain=None,\n",
    "              model_root='.',\n",
    "              val_interval=1,\n",
    "              iters_verbose=10,\n",
    "              pretrained=True)\n",
    "# 训练模型\n",
    "Args = namedtuple(\"Args\", params)\n",
    "clf_main3d(Args(**params))"
   ]
  }
 ],
 "metadata": {
  "kernelspec": {
   "display_name": "Python 3 (ipykernel)",
   "language": "python",
   "name": "python3"
  },
  "language_info": {
   "codemirror_mode": {
    "name": "ipython",
    "version": 3
   },
   "file_extension": ".py",
   "mimetype": "text/x-python",
   "name": "python",
   "nbconvert_exporter": "python",
   "pygments_lexer": "ipython3",
   "version": "3.7.16"
  }
 },
 "nbformat": 4,
 "nbformat_minor": 4
}
