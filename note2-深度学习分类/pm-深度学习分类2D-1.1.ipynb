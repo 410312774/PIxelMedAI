{
 "cells": [
  {
   "cell_type": "code",
   "execution_count": null,
   "metadata": {},
   "outputs": [],
   "source": [
    "import os\n",
    "os.environ['KMP_DUPLICATE_LIB_OK'] = 'True'\n",
    "from pixelmed_calc.medical_imaging.modelstore import get_model_from_name\n",
    "import torch\n",
    "device = torch.device(\"cuda\" if torch.cuda.is_available() else \"cpu\")\n",
    "model=get_model_from_name['resnet50'](num_classes = 2, pretrained = False,in_channels=3).to(device)"
   ]
  },
  {
   "cell_type": "code",
   "execution_count": null,
   "metadata": {},
   "outputs": [],
   "source": [
    "from pixelmed_calc.medical_imaging.DLtools.process2d import load_data_from_csv,get_file_and_labels,get_transforms,CustomImageDataset,train_and_validate\n",
    "import torch\n",
    "from monai.data import DataLoader\n",
    "train_base_path = r'D:\\pixelmedAI\\function_pm\\pm_data\\MR_jpg\\images'\n",
    "val_base_path = r'D:\\pixelmedAI\\function_pm\\pm_data\\MR_jpg\\images'\n",
    "input_size=224\n",
    "# CSV文件路径\n",
    "csv_path = r'D:\\pixelmedAI\\function_pm\\pm_data\\MR_jpg\\group.csv'\n",
    "tfs =get_transforms(input_size)\n",
    "\n",
    "\n",
    "# 读取所有数据\n",
    "file_names, labels, groups = load_data_from_csv(csv_path)\n",
    "\n",
    "# 获取训练数据和标签（可以设置 base_path 为 None 或实际路径）\n",
    "file_train, train_labels = get_file_and_labels(file_names, labels, groups, 'train', train_base_path)\n",
    "\n",
    "# 获取验证数据和标签（可以设置 base_path 为 None 或实际路径）\n",
    "file_val, val_labels = get_file_and_labels(file_names, labels, groups, 'test', val_base_path)\n",
    "\n",
    "\n",
    "# 假设你已经定义了 ImageDataset 和 train_transforms, val_transforms\n",
    "train_ds = CustomImageDataset(image_files=file_train, labels=train_labels, transform=tfs)\n",
    "train_loader = DataLoader(train_ds, batch_size=4, shuffle=True, num_workers=0, pin_memory=torch.cuda.is_available())\n",
    "\n",
    "val_ds = CustomImageDataset(image_files=file_val, labels=val_labels, transform=tfs)\n",
    "val_loader = DataLoader(val_ds, batch_size=1, shuffle=False, num_workers=0, pin_memory=torch.cuda.is_available())\n",
    "\n"
   ]
  },
  {
   "cell_type": "code",
   "execution_count": null,
   "metadata": {},
   "outputs": [],
   "source": [
    "train_and_validate(model, train_loader, val_loader, learning_rate=1e-4, epochs=10)"
   ]
  },
  {
   "cell_type": "code",
   "execution_count": null,
   "metadata": {},
   "outputs": [],
   "source": [
    "model=get_model_from_name['resnet50'](num_classes = 2, pretrained = False,in_channels=3).to(device)\n",
    "model.load_state_dict(torch.load(r'd:\\pixelmedAI\\function_pm\\note2-深度学习分类\\results\\latest_model.pth'))\n",
    "for name, _ in model.named_modules(): print(name)"
   ]
  },
  {
   "cell_type": "code",
   "execution_count": null,
   "metadata": {},
   "outputs": [],
   "source": [
    "from pixelmed_calc.medical_imaging.DLtools.process2d import load_preprocess_image,visualize_gradcam\n",
    "import torch\n",
    "from PIL import Image\n",
    "model = get_model_from_name['resnet50'](num_classes=2, pretrained=False, in_channels=3).to(device)\n",
    "model.load_state_dict(torch.load(r'd:\\pixelmedAI\\function_pm\\note2-深度学习分类\\results\\latest_model.pth'))\n",
    "img_path = r'd:\\pixelmedAI\\function_pm\\pm_data\\MR_jpg\\images\\data3.jpg'  # 替换为实际 PNG 图像路径\n",
    "image = Image.open(img_path).convert('RGB')\n",
    "img_tensor=load_preprocess_image(img_path,224)\n",
    "visualize_gradcam(model, img_tensor)"
   ]
  }
 ],
 "metadata": {
  "kernelspec": {
   "display_name": "Python 3 (ipykernel)",
   "language": "python",
   "name": "python3"
  },
  "language_info": {
   "codemirror_mode": {
    "name": "ipython",
    "version": 3
   },
   "file_extension": ".py",
   "mimetype": "text/x-python",
   "name": "python",
   "nbconvert_exporter": "python",
   "pygments_lexer": "ipython3",
   "version": "3.8.19"
  }
 },
 "nbformat": 4,
 "nbformat_minor": 2
}
