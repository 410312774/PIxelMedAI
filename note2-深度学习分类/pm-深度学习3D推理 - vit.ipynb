{
 "cells": [
  {
   "cell_type": "code",
   "execution_count": 4,
   "metadata": {},
   "outputs": [
    {
     "name": "stderr",
     "output_type": "stream",
     "text": [
      "<class 'monai.transforms.utility.array.AddChannel'>: Class `AddChannel` has been deprecated since version 0.8. please use MetaTensor data type and monai.transforms.EnsureChannelFirst instead.\n"
     ]
    },
    {
     "data": {
      "text/plain": [
       "<All keys matched successfully>"
      ]
     },
     "execution_count": 4,
     "metadata": {},
     "output_type": "execute_result"
    }
   ],
   "source": [
    "import os\n",
    "os.environ['KMP_DUPLICATE_LIB_OK'] = 'True'\n",
    "from pixelmed_calc.medical_imaging.modelstore import get_model_from_name\n",
    "from pixelmed_calc.medical_imaging.DLtools.process import load_data_from_csv,get_file_and_labels,get_transforms,train_and_validate\n",
    "from monai.data import ImageDataset\n",
    "import pandas as pd\n",
    "from torch.utils.data import DataLoader\n",
    "import torch\n",
    "import torch.nn as nn\n",
    "import torch.nn.functional as F\n",
    "\n",
    "# CSV文件路径\n",
    "csv_path = r'E:\\127lungnode\\lungnode\\group.csv'\n",
    "train_base_path = r'E:\\127lungnode\\lungnode\\crop3d'\n",
    "val_base_path = r'E:\\127lungnode\\lungnode\\crop3d'\n",
    "\n",
    "#tfs=get_transforms()\n",
    "tfs=get_transforms(resize=[16,128,128])\n",
    "# 读取所有数据\n",
    "file_names, labels, groups = load_data_from_csv(csv_path)\n",
    "\n",
    "file_train, train_labels = get_file_and_labels(file_names, labels, groups, 'train', train_base_path)\n",
    "\n",
    "file_val, val_labels = get_file_and_labels(file_names, labels, groups, 'val', val_base_path)\n",
    "\n",
    "device = torch.device(\"cuda\" if torch.cuda.is_available() else \"cpu\")\n",
    "#model = get_model_from_name['resnet50_3D'](num_classes=2, pretrained=True, in_channels=1).to(device)\n",
    "model=get_model_from_name['vit_3D'](\n",
    "    image_size = 128,          # image size\n",
    "    frames = 16,               # number of frames\n",
    "    image_patch_size = 16,     # image patch size\n",
    "    frame_patch_size = 2,      # frame patch size\n",
    "    num_classes = 2,\n",
    "    channels=1,\n",
    "    dim = 1024,\n",
    "    depth = 6,\n",
    "    heads = 8,\n",
    "    mlp_dim = 2048,\n",
    "    dropout = 0.1,\n",
    "    emb_dropout = 0.1\n",
    ").to(\"cuda\")\n",
    "model.load_state_dict(torch.load(r\"D:\\pixelmedAI\\function_pm\\note2-深度学习分类\\results\\best_model.pth\"))"
   ]
  },
  {
   "cell_type": "code",
   "execution_count": 5,
   "metadata": {},
   "outputs": [],
   "source": [
    "from pixelmed_calc.medical_imaging.DLtools.utils import save_prob_csv,eval_model\n",
    "val_ds = ImageDataset(image_files=file_val, labels=val_labels, transform=tfs)\n",
    "val_loader = DataLoader(val_ds, batch_size=1, shuffle=False, num_workers=0, pin_memory=torch.cuda.is_available())\n",
    "\n",
    "val_metrics = eval_model(model, val_loader, device)  \n",
    "save_prob_csv(val_metrics, os.path.join('results', f'test1.csv'))  "
   ]
  }
 ],
 "metadata": {
  "kernelspec": {
   "display_name": "Python 3",
   "language": "python",
   "name": "python3"
  },
  "language_info": {
   "codemirror_mode": {
    "name": "ipython",
    "version": 3
   },
   "file_extension": ".py",
   "mimetype": "text/x-python",
   "name": "python",
   "nbconvert_exporter": "python",
   "pygments_lexer": "ipython3",
   "version": "3.8.19"
  }
 },
 "nbformat": 4,
 "nbformat_minor": 2
}
