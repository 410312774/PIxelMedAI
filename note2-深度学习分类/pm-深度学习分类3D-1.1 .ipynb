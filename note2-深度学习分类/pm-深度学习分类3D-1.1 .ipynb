{
 "cells": [
  {
   "cell_type": "markdown",
   "metadata": {},
   "source": [
    "支持：  \n",
    "    \"resnet18_3D\"   \"resnet10_3D\"   \"resnet34_3D\"   \"resnet50_3D\"    \"resnet101_3D\"  \"resnet152_3D\"     \"resnet200_3D\"             \n",
    "    \"DenseNet121_3D\"   \"DenseNet201_3D\"  \"DenseNet169_3D\"    \"DenseNet264_3D\"  "
   ]
  },
  {
   "cell_type": "code",
   "execution_count": null,
   "metadata": {},
   "outputs": [],
   "source": [
    "import os\n",
    "import torch\n",
    "os.environ['KMP_DUPLICATE_LIB_OK'] = 'True'\n",
    "from pixelmed_calc.medical_imaging.modelstore import get_model_from_name\n",
    "device = torch.device(\"cuda\" if torch.cuda.is_available() else \"cpu\")  \n",
    "#可改参数\n",
    "model='resnet50_3D'\n",
    "num_classes=2\n",
    "pretrained=True\n",
    "in_channels=1\n",
    "batch_size=4\n",
    "learning_rate=1e-4\n",
    "epochs=10\n",
    "\n",
    "model=get_model_from_name['DenseNet121_3D'](num_classes = 2, pretrained = True,in_channels=1).to(device)\n"
   ]
  },
  {
   "cell_type": "code",
   "execution_count": null,
   "metadata": {},
   "outputs": [],
   "source": [
    "from pixelmed_calc.medical_imaging.DLtools.process import load_data_from_csv,get_file_and_labels,get_transforms,train_and_validate\n",
    "import os\n",
    "os.environ['KMP_DUPLICATE_LIB_OK'] = 'True'\n",
    "import torch\n",
    "import torch.nn as nn\n",
    "from monai.data import ImageDataset\n",
    "import os\n",
    "import pandas as pd\n",
    "from torch.utils.data import DataLoader\n",
    "\n",
    "# CSV文件路径\n",
    "csv_path = r\"D:\\pixelmedAI\\function_pm\\pm_data\\liangxing\\group.csv\"#'E:\\127lungnode\\lungnode\\group.csv'\n",
    "train_base_path = r\"D:\\pixelmedAI\\function_pm\\pm_data\\liangxing\\images\"#'E:\\127lungnode\\lungnode\\crop3d'\n",
    "val_base_path = r\"D:\\pixelmedAI\\function_pm\\pm_data\\liangxing\\images\"#'E:\\127lungnode\\lungnode\\crop3d'\n",
    "# CSV文件路径\n",
    "tfs=get_transforms()\n",
    "# 读取所有数据\n",
    "file_names, labels, groups = load_data_from_csv(csv_path)\n",
    "# 获取训练数据和标签（可以设置 base_path 为 None 或实际路径）\n",
    "file_train, train_labels = get_file_and_labels(file_names, labels, groups, 'train', train_base_path)\n",
    "# 获取验证数据和标签（可以设置 base_path 为 None 或实际路径）\n",
    "file_val, val_labels = get_file_and_labels(file_names, labels, groups, 'val', val_base_path)\n",
    "\n",
    "# 假设你已经定义了 ImageDataset 和 train_transforms, val_transforms\n",
    "train_ds = ImageDataset(image_files=file_train, labels=train_labels, transform=tfs)\n",
    "train_loader = DataLoader(train_ds, batch_size=4, shuffle=False, num_workers=0, pin_memory=torch.cuda.is_available())\n",
    "\n",
    "val_ds = ImageDataset(image_files=file_val, labels=val_labels, transform=tfs)\n",
    "val_loader = DataLoader(val_ds, batch_size=1, shuffle=False, num_workers=0, pin_memory=torch.cuda.is_available())"
   ]
  },
  {
   "cell_type": "code",
   "execution_count": null,
   "metadata": {},
   "outputs": [],
   "source": [
    "file_val"
   ]
  },
  {
   "cell_type": "markdown",
   "metadata": {},
   "source": [
    "训练模型"
   ]
  },
  {
   "cell_type": "code",
   "execution_count": null,
   "metadata": {},
   "outputs": [],
   "source": [
    "train_and_validate(model, train_loader, val_loader, learning_rate=1e-4, epochs=50)"
   ]
  },
  {
   "cell_type": "markdown",
   "metadata": {},
   "source": [
    "可视化"
   ]
  },
  {
   "cell_type": "code",
   "execution_count": null,
   "metadata": {},
   "outputs": [],
   "source": [
    "import matplotlib.pyplot as plt  \n",
    "import torch  \n",
    "from pixelmed_calc.medical_imaging.DLtools.process import plot_gradcam\n",
    "\n",
    "model = get_model_from_name['DenseNet121_3D'](num_classes=2, pretrained=False, in_channels=1).to(device)\n",
    "\n",
    "model.load_state_dict(torch.load(r'd:\\pixelmedAI\\function_pm\\note2-深度学习分类\\results\\latest_model.pth'))\n",
    "for name, _ in model.named_modules(): print(name)\n"
   ]
  },
  {
   "cell_type": "code",
   "execution_count": null,
   "metadata": {},
   "outputs": [],
   "source": [
    "# 示例调用:  \n",
    "plot_gradcam(model, file_val[1:2], tfs, device,target_layers=\"features.denseblock4.denselayer15.conv2\")"
   ]
  }
 ],
 "metadata": {
  "kernelspec": {
   "display_name": "pm38",
   "language": "python",
   "name": "python3"
  },
  "language_info": {
   "codemirror_mode": {
    "name": "ipython",
    "version": 3
   },
   "file_extension": ".py",
   "mimetype": "text/x-python",
   "name": "python",
   "nbconvert_exporter": "python",
   "pygments_lexer": "ipython3",
   "version": "3.8.19"
  }
 },
 "nbformat": 4,
 "nbformat_minor": 2
}
