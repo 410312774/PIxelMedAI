{
 "cells": [
  {
   "cell_type": "markdown",
   "id": "fff7bf70",
   "metadata": {},
   "source": [
    "## 自动分割 3D\n",
    "\n",
    "ROI区域自动分割，数据的一般形式为：\n",
    "\n",
    "* images文件夹，存放研究对象所有的CT、MRI等数据。\n",
    "* masks文件夹, 存放手工（Manuelly）勾画的ROI区域。与images文件夹的文件一一对应。\n",
    "\n",
    "**注意**：`my_dir`下必须是包括images和masks文件夹。"
   ]
  },
  {
   "cell_type": "code",
   "execution_count": 3,
   "id": "f17694de",
   "metadata": {},
   "outputs": [
    {
     "name": "stderr",
     "output_type": "stream",
     "text": [
      "[2023-09-14 12:11:32 - run_3dsegmentation.py:  79]\tINFO\t使用自定义Transform\n",
      "[2023-09-14 12:11:32 - run_3dsegmentation.py:  95]\tINFO\t一共获取214个训练样本，23个测试样本。\n",
      "[2023-09-14 12:11:32 - utils.py: 150]\tINFO\t使用数据缓存，缓存比例：0\n"
     ]
    },
    {
     "name": "stdout",
     "output_type": "stream",
     "text": [
      "epoch: 1, step:10, train_loss: 1.0958, lr: 0.000990, step time: 0.4726\n",
      "epoch: 1, step:20, train_loss: 1.0445, lr: 0.000962, step time: 0.3926\n",
      "epoch: 1, step:30, train_loss: 0.9236, lr: 0.000916, step time: 0.4500\n",
      "epoch: 1, step:40, train_loss: 0.8692, lr: 0.000854, step time: 0.4525\n",
      "epoch: 1, step:50, train_loss: 0.8319, lr: 0.000778, step time: 0.3593\n",
      "epoch 1 average loss: 0.9839\n",
      "saved new best metric model\n",
      "current epoch: 1 current mean dice: 0.0102\n",
      "best mean dice: 0.0102 at epoch: 1\n",
      "epoch: 2, step:10, train_loss: 0.7331, lr: 0.000645, step time: 0.4062\n",
      "epoch: 2, step:20, train_loss: 0.8108, lr: 0.000549, step time: 0.3841\n",
      "epoch: 2, step:30, train_loss: 0.7221, lr: 0.000451, step time: 0.3905\n",
      "epoch: 2, step:40, train_loss: 0.7677, lr: 0.000355, step time: 0.4061\n",
      "epoch: 2, step:50, train_loss: 0.6852, lr: 0.000264, step time: 0.4549\n",
      "epoch 2 average loss: 0.7416\n",
      "epoch: 3, step:10, train_loss: 0.6848, lr: 0.000146, step time: 0.3896\n",
      "epoch: 3, step:20, train_loss: 0.7448, lr: 0.000084, step time: 0.4188\n",
      "epoch: 3, step:30, train_loss: 0.6744, lr: 0.000038, step time: 0.3778\n",
      "epoch: 3, step:40, train_loss: 0.6828, lr: 0.000010, step time: 0.3928\n",
      "epoch: 3, step:50, train_loss: 0.7499, lr: 0.000000, step time: 0.4369\n",
      "epoch 3 average loss: 0.6999\n"
     ]
    }
   ],
   "source": [
    "import os\n",
    "\n",
    "os.environ['KMP_DUPLICATE_LIB_OK'] = 'True'\n",
    "from pixelmed_calc.segmentation3D.modelzoo.run_3dsegmentation import main as seg_main\n",
    "\n",
    "# 如果自己有coco格式的数据，可以直接使用自己的目录。\n",
    "my_dir = r'C:\\Users\\yxzdxzj\\Desktop\\function\\pm_data\\MR'\n",
    "\n",
    "# 设置参数\n",
    "class params:\n",
    "    train = my_dir                    # 训练数据的目录\n",
    "    valid = None                      # 测试数据的目录，如果为None，则使用val_size自动划分，否则val_size参数不生效。\n",
    "    val_size = 0.1                    # 训练集划分出来作为测试集的比例。\n",
    "    roi_size = [48, 48, 16]           # ROI的预估大小。\n",
    "    num_classes = 2                   # 识别的ROI的类别数。\n",
    "    j = 0                             # 并行载入数据的并发量，默认0，如果CPU足够强劲可以选择 > 1.\n",
    "    model_name = 'Unet'               # 模型名称，目前支持Unet、Segres、Unetr\n",
    "    init_lr = 0.001                   # 初始化的learning rate。\n",
    "    batch_size = 4                    # 每次训练的batch_size大小\n",
    "    iters_verbose = 10                # 打印log的频率\n",
    "    epochs = 3                        # 训练的总次数。\n",
    "    optimizer = 'Adamax'              # 优化器的选择。SGD、Adam、Adamax\n",
    "    val_interval = 4                  # 多少次训练进行一次evaluate\n",
    "    cached_ratio=0                    # 缓存数据的比例\n",
    "    gpu = '0'                          # 如果有GPU，确定使用的GPU ID，一般大家填0\n",
    "    save_dir = '.'                    # 模型保存的位置。\n",
    "    attr = {}\n",
    "\n",
    "    def __setattr__(self, key, value):\n",
    "        self.attr[key] = value\n",
    "\n",
    "\n",
    "# 训练模型\n",
    "seg_main(params)"
   ]
  },
  {
   "cell_type": "markdown",
   "id": "f25a30fc",
   "metadata": {},
   "source": [
    "### 预测模型\n",
    "\n",
    "需要确定自己的预测数据，修改my_test_dir参数。"
   ]
  },
  {
   "cell_type": "code",
   "execution_count": 4,
   "id": "11a6f378",
   "metadata": {
    "scrolled": true
   },
   "outputs": [
    {
     "name": "stderr",
     "output_type": "stream",
     "text": [
      "[2023-09-14 12:17:19 - eval_3dsegmentation.py:  90]\tINFO\t使用Unet模型，成功加载20230914/Unet/Unet.pth参数\n",
      "[2023-09-14 12:17:19 - eval_3dsegmentation.py:  61]\tINFO\t正在预测{'image': 'C:\\\\Users\\\\yxzdxzj\\\\Desktop\\\\function\\\\pm_data\\\\MR\\\\deeplearning\\\\val\\\\label1\\\\11.nii.gz'}\n",
      "[2023-09-14 12:17:24 - eval_3dsegmentation.py:  61]\tINFO\t正在预测{'image': 'C:\\\\Users\\\\yxzdxzj\\\\Desktop\\\\function\\\\pm_data\\\\MR\\\\deeplearning\\\\val\\\\label1\\\\12.nii.gz'}\n",
      "[2023-09-14 12:17:27 - eval_3dsegmentation.py:  61]\tINFO\t正在预测{'image': 'C:\\\\Users\\\\yxzdxzj\\\\Desktop\\\\function\\\\pm_data\\\\MR\\\\deeplearning\\\\val\\\\label1\\\\13.nii.gz'}\n",
      "[2023-09-14 12:17:31 - eval_3dsegmentation.py:  61]\tINFO\t正在预测{'image': 'C:\\\\Users\\\\yxzdxzj\\\\Desktop\\\\function\\\\pm_data\\\\MR\\\\deeplearning\\\\val\\\\label1\\\\14.nii.gz'}\n",
      "[2023-09-14 12:17:36 - eval_3dsegmentation.py:  61]\tINFO\t正在预测{'image': 'C:\\\\Users\\\\yxzdxzj\\\\Desktop\\\\function\\\\pm_data\\\\MR\\\\deeplearning\\\\val\\\\label1\\\\15.nii.gz'}\n"
     ]
    }
   ],
   "source": [
    "import glob\n",
    "import os\n",
    "\n",
    "from pixelmed_calc.segmentation3D.modelzoo.eval_3dsegmentation import init as init3d\n",
    "from pixelmed_calc.segmentation3D.modelzoo.eval_3dsegmentation import inference as inference3d\n",
    "\n",
    "os.environ['KMP_DUPLICATE_LIB_OK'] = 'True'\n",
    "my_test_dir = r'C:\\Users\\yxzdxzj\\Desktop\\function\\pm_data\\MR\\deeplearning\\val\\label1'\n",
    "data = [i for i in glob.glob(os.path.join(my_test_dir, '*.nii*'))]\n",
    "m, t, d = init3d('Unet', model_path='20230914/Unet/Unet.pth', num_classes=2)\n",
    "inference3d(data, m, t, d, roi_size=(48, 48, 48), save_dir='.')"
   ]
  },
  {
   "cell_type": "code",
   "execution_count": null,
   "id": "25f5f697",
   "metadata": {},
   "outputs": [],
   "source": []
  },
  {
   "cell_type": "code",
   "execution_count": null,
   "id": "303a3ad5",
   "metadata": {},
   "outputs": [],
   "source": []
  }
 ],
 "metadata": {
  "kernelspec": {
   "display_name": "Python 3 (ipykernel)",
   "language": "python",
   "name": "python3"
  },
  "language_info": {
   "codemirror_mode": {
    "name": "ipython",
    "version": 3
   },
   "file_extension": ".py",
   "mimetype": "text/x-python",
   "name": "python",
   "nbconvert_exporter": "python",
   "pygments_lexer": "ipython3",
   "version": "3.7.16"
  }
 },
 "nbformat": 4,
 "nbformat_minor": 5
}
